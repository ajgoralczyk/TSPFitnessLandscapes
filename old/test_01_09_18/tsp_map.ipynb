{
 "cells": [
  {
   "cell_type": "markdown",
   "metadata": {},
   "source": [
    "# Test 01.09.18"
   ]
  },
  {
   "cell_type": "code",
   "execution_count": 1,
   "metadata": {},
   "outputs": [],
   "source": [
    "from tsp_map import *"
   ]
  },
  {
   "cell_type": "code",
   "execution_count": 2,
   "metadata": {},
   "outputs": [
    {
     "name": "stdout",
     "output_type": "stream",
     "text": [
      "460.9054343700409\n"
     ]
    }
   ],
   "source": [
    "instance_graph(\"bays29\", \"graphs/bays29\")\n"
   ]
  },
  {
   "cell_type": "code",
   "execution_count": 3,
   "metadata": {},
   "outputs": [
    {
     "name": "stdout",
     "output_type": "stream",
     "text": [
      "405.676016330719\n",
      "graphs/bays29_1_0\n",
      "428.97585129737854\n",
      "graphs/bays29_1_1\n",
      "395.63106536865234\n",
      "graphs/bays29_1_2\n",
      "447.78056478500366\n",
      "graphs/bays29_1_3\n",
      "402.88063621520996\n",
      "graphs/bays29_1_4\n",
      "427.5596089363098\n",
      "graphs/bays29_1_5\n",
      "416.69666051864624\n",
      "graphs/bays29_1_6\n",
      "447.126314163208\n",
      "graphs/bays29_1_7\n",
      "410.8343367576599\n",
      "graphs/bays29_1_8\n",
      "367.9689691066742\n",
      "graphs/bays29_2_0\n",
      "363.41015887260437\n",
      "graphs/bays29_2_1\n",
      "362.49161434173584\n",
      "graphs/bays29_2_2\n",
      "364.3277051448822\n",
      "graphs/bays29_2_3\n",
      "381.47089314460754\n",
      "graphs/bays29_2_4\n",
      "377.0367922782898\n",
      "graphs/bays29_2_5\n",
      "356.22641468048096\n",
      "graphs/bays29_2_6\n",
      "384.5137538909912\n",
      "graphs/bays29_2_7\n",
      "376.2328679561615\n",
      "graphs/bays29_2_8\n",
      "284.7335891723633\n",
      "graphs/bays29_5_0\n",
      "292.3428394794464\n",
      "graphs/bays29_5_1\n",
      "326.1907227039337\n",
      "graphs/bays29_5_2\n",
      "283.52080154418945\n",
      "graphs/bays29_5_3\n",
      "304.2872986793518\n",
      "graphs/bays29_5_4\n",
      "283.7462320327759\n",
      "graphs/bays29_5_5\n",
      "300.8833997249603\n",
      "graphs/bays29_5_6\n",
      "299.572762966156\n",
      "graphs/bays29_5_7\n",
      "295.9156847000122\n",
      "graphs/bays29_5_8\n",
      "272.557151556015\n",
      "graphs/bays29_5_9\n"
     ]
    }
   ],
   "source": [
    "subinstance_graphs(\"bays29\", \"graphs/bays29\", 9, 1)\n",
    "subinstance_graphs(\"bays29\", \"graphs/bays29\", 9, 2)\n",
    "subinstance_graphs(\"bays29\", \"graphs/bays29\", 10, 5)"
   ]
  },
  {
   "cell_type": "code",
   "execution_count": 4,
   "metadata": {},
   "outputs": [
    {
     "name": "stdout",
     "output_type": "stream",
     "text": [
      "IGRAPH D--- 411 475 -- \n",
      "bays29\n"
     ]
    }
   ],
   "source": [
    "generate_image(\"bays29\")"
   ]
  },
  {
   "cell_type": "code",
   "execution_count": 5,
   "metadata": {},
   "outputs": [
    {
     "name": "stdout",
     "output_type": "stream",
     "text": [
      "IGRAPH D--- 401 316 -- \n",
      "graphs/bays29_1_0\n",
      "IGRAPH D--- 405 326 -- \n",
      "graphs/bays29_1_1\n",
      "IGRAPH D--- 403 330 -- \n",
      "graphs/bays29_1_2\n",
      "IGRAPH D--- 403 326 -- \n",
      "graphs/bays29_1_3\n",
      "IGRAPH D--- 403 325 -- \n",
      "graphs/bays29_1_4\n",
      "IGRAPH D--- 402 337 -- \n",
      "graphs/bays29_1_5\n",
      "IGRAPH D--- 402 330 -- \n",
      "graphs/bays29_1_6\n",
      "IGRAPH D--- 401 347 -- \n",
      "graphs/bays29_1_7\n",
      "IGRAPH D--- 401 329 -- \n",
      "graphs/bays29_1_8\n",
      "IGRAPH D--- 401 330 -- \n",
      "graphs/bays29_2_0\n",
      "IGRAPH D--- 403 366 -- \n",
      "graphs/bays29_2_1\n",
      "IGRAPH D--- 403 338 -- \n",
      "graphs/bays29_2_2\n",
      "IGRAPH D--- 401 332 -- \n",
      "graphs/bays29_2_3\n",
      "IGRAPH D--- 401 352 -- \n",
      "graphs/bays29_2_4\n",
      "IGRAPH D--- 401 345 -- \n",
      "graphs/bays29_2_5\n",
      "IGRAPH D--- 401 359 -- \n",
      "graphs/bays29_2_6\n",
      "IGRAPH D--- 405 325 -- \n",
      "graphs/bays29_2_7\n",
      "IGRAPH D--- 401 364 -- \n",
      "graphs/bays29_2_8\n",
      "IGRAPH D--- 402 353 -- \n",
      "graphs/bays29_5_0\n",
      "IGRAPH D--- 402 381 -- \n",
      "graphs/bays29_5_1\n",
      "IGRAPH D--- 401 347 -- \n",
      "graphs/bays29_5_2\n",
      "IGRAPH D--- 403 358 -- \n",
      "graphs/bays29_5_3\n",
      "IGRAPH D--- 402 380 -- \n",
      "graphs/bays29_5_4\n",
      "IGRAPH D--- 401 377 -- \n",
      "graphs/bays29_5_5\n",
      "IGRAPH D--- 401 353 -- \n",
      "graphs/bays29_5_6\n",
      "IGRAPH D--- 404 373 -- \n",
      "graphs/bays29_5_7\n",
      "IGRAPH D--- 401 376 -- \n",
      "graphs/bays29_5_8\n",
      "IGRAPH D--- 404 369 -- \n",
      "graphs/bays29_5_9\n"
     ]
    }
   ],
   "source": [
    "gen_sub_images(\"graphs/bays29\", 9, 1)\n",
    "gen_sub_images(\"graphs/bays29\", 9, 2)\n",
    "gen_sub_images(\"graphs/bays29\", 10, 5)"
   ]
  },
  {
   "cell_type": "code",
   "execution_count": 6,
   "metadata": {},
   "outputs": [
    {
     "name": "stdout",
     "output_type": "stream",
     "text": [
      "graphs/bays29_1_0.png\n"
     ]
    },
    {
     "ename": "NameError",
     "evalue": "name 'Image' is not defined",
     "output_type": "error",
     "traceback": [
      "\u001b[1;31m---------------------------------------------------------------------------\u001b[0m",
      "\u001b[1;31mNameError\u001b[0m                                 Traceback (most recent call last)",
      "\u001b[1;32m<ipython-input-6-f2fe87ce5fd4>\u001b[0m in \u001b[0;36m<module>\u001b[1;34m()\u001b[0m\n\u001b[1;32m----> 1\u001b[1;33m \u001b[0mprint_subs\u001b[0m\u001b[1;33m(\u001b[0m\u001b[1;34m\"graphs/bays29\"\u001b[0m\u001b[1;33m,\u001b[0m \u001b[1;36m9\u001b[0m\u001b[1;33m,\u001b[0m \u001b[1;36m1\u001b[0m\u001b[1;33m)\u001b[0m\u001b[1;33m\u001b[0m\u001b[0m\n\u001b[0m\u001b[0;32m      2\u001b[0m \u001b[0mprint_subs\u001b[0m\u001b[1;33m(\u001b[0m\u001b[1;34m\"graphs/bays29\"\u001b[0m\u001b[1;33m,\u001b[0m \u001b[1;36m9\u001b[0m\u001b[1;33m,\u001b[0m \u001b[1;36m2\u001b[0m\u001b[1;33m)\u001b[0m\u001b[1;33m\u001b[0m\u001b[0m\n\u001b[0;32m      3\u001b[0m \u001b[0mprint_subs\u001b[0m\u001b[1;33m(\u001b[0m\u001b[1;34m\"graphs/bays29\"\u001b[0m\u001b[1;33m,\u001b[0m \u001b[1;36m10\u001b[0m\u001b[1;33m,\u001b[0m \u001b[1;36m5\u001b[0m\u001b[1;33m)\u001b[0m\u001b[1;33m\u001b[0m\u001b[0m\n",
      "\u001b[1;32m~\\Documents\\GitHub\\TSPFitnessLandscapes\\test_01_09_18\\tsp_map.py\u001b[0m in \u001b[0;36mprint_subs\u001b[1;34m(filename, T, s)\u001b[0m\n\u001b[0;32m    282\u001b[0m         \u001b[0mout_filename\u001b[0m \u001b[1;33m=\u001b[0m \u001b[0mfilename\u001b[0m \u001b[1;33m+\u001b[0m \u001b[1;34m\"_\"\u001b[0m \u001b[1;33m+\u001b[0m \u001b[0mstr\u001b[0m\u001b[1;33m(\u001b[0m\u001b[0ms\u001b[0m\u001b[1;33m)\u001b[0m \u001b[1;33m+\u001b[0m \u001b[1;34m\"_\"\u001b[0m \u001b[1;33m+\u001b[0m \u001b[0mstr\u001b[0m\u001b[1;33m(\u001b[0m\u001b[0mt\u001b[0m\u001b[1;33m)\u001b[0m \u001b[1;33m+\u001b[0m \u001b[1;34m\".png\"\u001b[0m\u001b[1;33m\u001b[0m\u001b[0m\n\u001b[0;32m    283\u001b[0m         \u001b[0mprint\u001b[0m\u001b[1;33m(\u001b[0m\u001b[0mout_filename\u001b[0m\u001b[1;33m)\u001b[0m\u001b[1;33m\u001b[0m\u001b[0m\n\u001b[1;32m--> 284\u001b[1;33m         \u001b[0mimg\u001b[0m \u001b[1;33m=\u001b[0m \u001b[0mImage\u001b[0m\u001b[1;33m(\u001b[0m\u001b[0mout_filename\u001b[0m\u001b[1;33m)\u001b[0m\u001b[1;33m\u001b[0m\u001b[0m\n\u001b[0m\u001b[0;32m    285\u001b[0m         \u001b[0mdisplay\u001b[0m\u001b[1;33m(\u001b[0m\u001b[0mimg\u001b[0m\u001b[1;33m)\u001b[0m\u001b[1;33m\u001b[0m\u001b[0m\n",
      "\u001b[1;31mNameError\u001b[0m: name 'Image' is not defined"
     ]
    }
   ],
   "source": [
    "print_subs(\"graphs/bays29\", 9, 1)\n",
    "print_subs(\"graphs/bays29\", 9, 2)\n",
    "print_subs(\"graphs/bays29\", 10, 5)"
   ]
  },
  {
   "cell_type": "code",
   "execution_count": null,
   "metadata": {},
   "outputs": [],
   "source": []
  }
 ],
 "metadata": {
  "kernelspec": {
   "display_name": "Python 3",
   "language": "python",
   "name": "python3"
  },
  "language_info": {
   "codemirror_mode": {
    "name": "ipython",
    "version": 3
   },
   "file_extension": ".py",
   "mimetype": "text/x-python",
   "name": "python",
   "nbconvert_exporter": "python",
   "pygments_lexer": "ipython3",
   "version": "3.6.5"
  }
 },
 "nbformat": 4,
 "nbformat_minor": 2
}
