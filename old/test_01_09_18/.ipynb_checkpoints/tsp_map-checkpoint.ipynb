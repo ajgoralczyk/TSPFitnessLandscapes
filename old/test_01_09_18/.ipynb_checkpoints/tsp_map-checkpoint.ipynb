{
 "cells": [
  {
   "cell_type": "markdown",
   "metadata": {},
   "source": [
    "# Test 01.09.18"
   ]
  },
  {
   "cell_type": "code",
   "execution_count": 5,
   "metadata": {},
   "outputs": [],
   "source": [
    "from tsp_map import *"
   ]
  },
  {
   "cell_type": "code",
   "execution_count": null,
   "metadata": {},
   "outputs": [],
   "source": [
    "instance_graph(\"bays29\", \"graphs/bays29\")\n",
    "subinstances_graphs(\"bays29\", \"graphs/bays29\", 9, 1)\n",
    "subinstances_graphs(\"bays29\", \"graphs/bays29\", 9, 2)\n",
    "subinstances_graphs(\"bays29\", \"graphs/bays29\", 10, 5)"
   ]
  },
  {
   "cell_type": "code",
   "execution_count": null,
   "metadata": {},
   "outputs": [],
   "source": [
    "generate_image(\"bays29\")"
   ]
  },
  {
   "cell_type": "code",
   "execution_count": null,
   "metadata": {},
   "outputs": [],
   "source": [
    "gen_sub_images(\"graphs/bays29\", 9, 1)\n",
    "gen_sub_images(\"graphs/bays29\", 9, 2)\n",
    "gen_sub_images(\"graphs/bays29\", 10, 5)"
   ]
  },
  {
   "cell_type": "code",
   "execution_count": null,
   "metadata": {},
   "outputs": [],
   "source": [
    "print_subs(\"graphs/bays29\", 9, 1)\n",
    "print_subs(\"graphs/bays29\", 9, 2)\n",
    "print_subs(\"graphs/bays29\", 10, 5)"
   ]
  },
  {
   "cell_type": "code",
   "execution_count": null,
   "metadata": {},
   "outputs": [],
   "source": []
  }
 ],
 "metadata": {
  "kernelspec": {
   "display_name": "Python 3",
   "language": "python",
   "name": "python3"
  },
  "language_info": {
   "codemirror_mode": {
    "name": "ipython",
    "version": 3
   },
   "file_extension": ".py",
   "mimetype": "text/x-python",
   "name": "python",
   "nbconvert_exporter": "python",
   "pygments_lexer": "ipython3",
   "version": "3.6.5"
  }
 },
 "nbformat": 4,
 "nbformat_minor": 2
}
