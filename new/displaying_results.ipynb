{
 "cells": [
  {
   "cell_type": "code",
   "execution_count": 1,
   "metadata": {},
   "outputs": [],
   "source": [
    "from main import *\n",
    "from notebook import *"
   ]
  },
  {
   "cell_type": "markdown",
   "metadata": {},
   "source": [
    "Sub-instances & LON generation\n",
    "\n",
    "\n",
    "- problem: bays29\n",
    "- 28 sub-instances (9 without 1 vertex, 9 without 2, 10 without 5)\n",
    "- 1000  Chained-LK runs\n",
    "- kick strength = 1\n",
    "- termination criterion = 1 000 consecutive non-improving iterations (later 10 000 will be used)\n"
   ]
  },
  {
   "cell_type": "code",
   "execution_count": 2,
   "metadata": {},
   "outputs": [],
   "source": [
    "data_file = \"bays29.tsp\"\n",
    "data_folder = \"data_bays29\"\n",
    "test_folder = \"3_bays29_100000\"\n",
    "kick_strength = 1"
   ]
  },
  {
   "cell_type": "code",
   "execution_count": 3,
   "metadata": {},
   "outputs": [],
   "source": [
    "# main_part1__TSP_problems(data_file, data_folder)"
   ]
  },
  {
   "cell_type": "code",
   "execution_count": 4,
   "metadata": {},
   "outputs": [],
   "source": [
    "# done independently on different computers\n",
    "# main_part2__LONs(data_folder, test_folder + \"/1_lons\", test_folder + \"/3_performance_metrics\", kick_strength)"
   ]
  },
  {
   "cell_type": "markdown",
   "metadata": {},
   "source": [
    "LON image generation\n",
    "\n",
    "\n",
    "- nodes & edges selection ..."
   ]
  },
  {
   "cell_type": "code",
   "execution_count": 5,
   "metadata": {
    "scrolled": false
   },
   "outputs": [
    {
     "data": {
      "text/html": [
       "<div style='width: 30%; margin: 1.5%; float: left'><img src='3_bays29_100000/2_images/bays29.png' /><span>bays29.png</span></div><div style='width: 30%; margin: 1.5%; float: left'><img src='3_bays29_100000/2_images/bays29_1_0.png' /><span>bays29_1_0.png</span></div><div style='width: 30%; margin: 1.5%; float: left'><img src='3_bays29_100000/2_images/bays29_1_1.png' /><span>bays29_1_1.png</span></div><div style='width: 30%; margin: 1.5%; float: left'><img src='3_bays29_100000/2_images/bays29_1_2.png' /><span>bays29_1_2.png</span></div><div style='width: 30%; margin: 1.5%; float: left'><img src='3_bays29_100000/2_images/bays29_1_3.png' /><span>bays29_1_3.png</span></div><div style='width: 30%; margin: 1.5%; float: left'><img src='3_bays29_100000/2_images/bays29_1_4.png' /><span>bays29_1_4.png</span></div><div style='width: 30%; margin: 1.5%; float: left'><img src='3_bays29_100000/2_images/bays29_1_5.png' /><span>bays29_1_5.png</span></div><div style='width: 30%; margin: 1.5%; float: left'><img src='3_bays29_100000/2_images/bays29_1_6.png' /><span>bays29_1_6.png</span></div><div style='width: 30%; margin: 1.5%; float: left'><img src='3_bays29_100000/2_images/bays29_1_7.png' /><span>bays29_1_7.png</span></div><div style='width: 30%; margin: 1.5%; float: left'><img src='3_bays29_100000/2_images/bays29_1_8.png' /><span>bays29_1_8.png</span></div><div style='width: 30%; margin: 1.5%; float: left'><img src='3_bays29_100000/2_images/bays29_2_0.png' /><span>bays29_2_0.png</span></div><div style='width: 30%; margin: 1.5%; float: left'><img src='3_bays29_100000/2_images/bays29_2_3.png' /><span>bays29_2_3.png</span></div><div style='width: 30%; margin: 1.5%; float: left'><img src='3_bays29_100000/2_images/bays29_2_6.png' /><span>bays29_2_6.png</span></div><div style='width: 30%; margin: 1.5%; float: left'><img src='3_bays29_100000/2_images/bays29_2_7.png' /><span>bays29_2_7.png</span></div><div style='width: 30%; margin: 1.5%; float: left'><img src='3_bays29_100000/2_images/bays29_5_3.png' /><span>bays29_5_3.png</span></div><div style='width: 30%; margin: 1.5%; float: left'><img src='3_bays29_100000/2_images/bays29_5_6.png' /><span>bays29_5_6.png</span></div>"
      ],
      "text/plain": [
       "<IPython.core.display.HTML object>"
      ]
     },
     "metadata": {},
     "output_type": "display_data"
    }
   ],
   "source": [
    "#main_part3__images(test_folder + \"/1_lons\", test_folder + \"/2_images\")\n",
    "print_images(test_folder + \"/2_images\")"
   ]
  },
  {
   "cell_type": "markdown",
   "metadata": {},
   "source": [
    "Network & performance metrics\n",
    "\n",
    "\n",
    "- success rate\n",
    "- mean number of iterations to success\n",
    "- number of nodes in LON\n",
    "- number of sinks in LON\n",
    "- relative in-strength of the globally optimal sink\n",
    "- proportion of nodes in the globally optimal funnels\n",
    "- proportion of nodes with unique path length"
   ]
  },
  {
   "cell_type": "code",
   "execution_count": 6,
   "metadata": {},
   "outputs": [
    {
     "name": "stdout",
     "output_type": "stream",
     "text": [
      "Success rate [0.06, 0.189, 0.095, 0.261, 0.048, 0.144, 0.072, 0.036, 0.132, 0.144, 0.108, 0.072, 0.082, 0.083, 0.338, 0.241]\n",
      "Iterations to success ['3810.20', '3407.85', '3532.71', '5048.97', '5132.50', '5130.17', '3950.67', '2531.67', '4930.91', '5130.17', '4966.78', '3938.17', '3153.87', '4802.47', '2860.45', '2314.95']\n",
      "Number of nodes [1422, 1306, 1364, 1347, 1381, 1465, 1342, 1312, 1324, 1465, 1332, 1355, 1351, 1391, 1705, 1723]\n",
      "Number of edges [11, 11, 11, 11, 11, 11, 11, 11, 11, 11, 11, 11, 11, 11, 7, 7]\n",
      "Number of sinks [56, 45, 44, 28, 57, 47, 51, 46, 37, 47, 38, 50, 38, 47, 24, 41]\n",
      "Relative in-strength ['0.10', '0.28', '0.17', '0.33', '0.09', '0.11', '0.17', '0.06', '0.14', '0.11', '0.16', '0.11', '0.11', '0.15', '0.44', '0.21']\n",
      "Proportion of nodes in optimal funnels ['0.25', '0.47', '0.34', '0.71', '0.25', '0.25', '0.22', '0.20', '0.40', '0.25', '0.43', '0.25', '0.23', '0.23', '0.85', '0.55']\n",
      "Proportion of nodes with unique path length ['0.25', '0.47', '0.34', '0.71', '0.25', '0.25', '0.22', '0.20', '0.40', '0.25', '0.43', '0.25', '0.23', '0.23', '0.85', '0.55']\n"
     ]
    }
   ],
   "source": [
    "main_part4__metrics(\"best\", test_folder + \"/1_lons\", test_folder + \"/3_performance_metrics\", test_folder + \"/4_network_metrics\")\n",
    "print_metrics(test_folder + \"/3_performance_metrics\", test_folder + \"/4_network_metrics\")"
   ]
  },
  {
   "cell_type": "markdown",
   "metadata": {},
   "source": [
    "LON projection images\n",
    "\n",
    "\n",
    "- with and without: loops and 'upstream edges' (edges from original graphs that in projection point from node representing shorter to longer path)\n",
    "- ..."
   ]
  },
  {
   "cell_type": "code",
   "execution_count": 7,
   "metadata": {
    "scrolled": false
   },
   "outputs": [
    {
     "name": "stdout",
     "output_type": "stream",
     "text": [
      "loops 14 upstream edges 196\n",
      "loops 1 upstream edges 45\n",
      "loops 0 upstream edges 62\n",
      "loops 1 upstream edges 57\n",
      "loops 11 upstream edges 147\n",
      "loops 1 upstream edges 57\n",
      "loops 13 upstream edges 119\n",
      "loops 2 upstream edges 29\n",
      "loops 11 upstream edges 147\n",
      "loops 13 upstream edges 92\n",
      "loops 13 upstream edges 186\n",
      "loops 13 upstream edges 161\n",
      "loops 6 upstream edges 95\n",
      "loops 35 upstream edges 327\n",
      "loops 19 upstream edges 282\n"
     ]
    }
   ],
   "source": [
    "main_part5__projections(test_folder + \"/1_lons\", test_folder + \"/5_projections\")"
   ]
  },
  {
   "cell_type": "code",
   "execution_count": 8,
   "metadata": {
    "scrolled": false
   },
   "outputs": [
    {
     "name": "stdout",
     "output_type": "stream",
     "text": [
      "IGRAPH D--- 403 381 -- \n",
      "image  3_bays29_100000/2_images/bays29_1_0\n",
      "projection nodes in LON 47  /  1380\n",
      "projection edges in LON 6  /  1355\n",
      "IGRAPH D--- 403 366 -- \n",
      "image  3_bays29_100000/6_projection_images/bays29_1_0\n",
      "IGRAPH D--- 401 381 -- \n",
      "image  3_bays29_100000/2_images/bays29_1_1\n",
      "projection nodes in LON 48  /  1414\n",
      "projection edges in LON 10  /  1378\n",
      "IGRAPH D--- 402 364 -- \n",
      "image  3_bays29_100000/6_projection_images/bays29_1_1\n",
      "IGRAPH D--- 407 402 -- \n",
      "image  3_bays29_100000/2_images/bays29_1_2\n",
      "projection nodes in LON 24  /  1417\n",
      "projection edges in LON 2  /  1381\n",
      "IGRAPH D--- 402 361 -- \n",
      "image  3_bays29_100000/6_projection_images/bays29_1_2\n",
      "IGRAPH D--- 403 361 -- \n",
      "image  3_bays29_100000/2_images/bays29_1_3\n",
      "projection nodes in LON 54  /  1414\n",
      "projection edges in LON 16  /  1378\n",
      "IGRAPH D--- 403 365 -- \n",
      "image  3_bays29_100000/6_projection_images/bays29_1_3\n",
      "IGRAPH D--- 402 370 -- \n",
      "image  3_bays29_100000/2_images/bays29_1_4\n",
      "projection nodes in LON 61  /  1392\n",
      "projection edges in LON 14  /  1363\n",
      "IGRAPH D--- 405 366 -- \n",
      "image  3_bays29_100000/6_projection_images/bays29_1_4\n",
      "IGRAPH D--- 405 363 -- \n",
      "image  3_bays29_100000/2_images/bays29_1_5\n",
      "projection nodes in LON 51  /  1414\n",
      "projection edges in LON 10  /  1378\n",
      "IGRAPH D--- 403 365 -- \n",
      "image  3_bays29_100000/6_projection_images/bays29_1_5\n",
      "IGRAPH D--- 402 371 -- \n",
      "image  3_bays29_100000/2_images/bays29_1_6\n",
      "projection nodes in LON 36  /  1398\n",
      "projection edges in LON 9  /  1365\n",
      "IGRAPH D--- 402 358 -- \n",
      "image  3_bays29_100000/6_projection_images/bays29_1_6\n",
      "IGRAPH D--- 402 394 -- \n",
      "image  3_bays29_100000/2_images/bays29_1_7\n",
      "projection nodes in LON 66  /  1399\n",
      "projection edges in LON 29  /  1373\n",
      "IGRAPH D--- 401 374 -- \n",
      "image  3_bays29_100000/6_projection_images/bays29_1_7\n",
      "IGRAPH D--- 402 370 -- \n",
      "image  3_bays29_100000/2_images/bays29_1_8\n",
      "projection nodes in LON 61  /  1392\n",
      "projection edges in LON 14  /  1363\n",
      "IGRAPH D--- 405 366 -- \n",
      "image  3_bays29_100000/6_projection_images/bays29_1_8\n",
      "IGRAPH D--- 401 395 -- \n",
      "image  3_bays29_100000/2_images/bays29_2_0\n",
      "projection nodes in LON 62  /  1393\n",
      "projection edges in LON 16  /  1364\n",
      "IGRAPH D--- 404 371 -- \n",
      "image  3_bays29_100000/6_projection_images/bays29_2_0\n",
      "IGRAPH D--- 405 371 -- \n",
      "image  3_bays29_100000/2_images/bays29_2_3\n",
      "projection nodes in LON 45  /  1381\n",
      "projection edges in LON 4  /  1364\n",
      "IGRAPH D--- 402 372 -- \n",
      "image  3_bays29_100000/6_projection_images/bays29_2_3\n",
      "IGRAPH D--- 402 387 -- \n",
      "image  3_bays29_100000/2_images/bays29_2_6\n",
      "projection nodes in LON 46  /  1389\n",
      "projection edges in LON 6  /  1362\n",
      "IGRAPH D--- 402 361 -- \n",
      "image  3_bays29_100000/6_projection_images/bays29_2_6\n",
      "IGRAPH D--- 405 375 -- \n",
      "image  3_bays29_100000/2_images/bays29_2_7\n",
      "projection nodes in LON 69  /  1398\n",
      "projection edges in LON 22  /  1372\n",
      "IGRAPH D--- 402 364 -- \n",
      "image  3_bays29_100000/6_projection_images/bays29_2_7\n",
      "IGRAPH D--- 401 474 -- \n",
      "image  3_bays29_100000/2_images/bays29_5_3\n",
      "projection nodes in LON 32  /  1299\n",
      "projection edges in LON 3  /  1310\n",
      "IGRAPH D--- 401 368 -- \n",
      "image  3_bays29_100000/6_projection_images/bays29_5_3\n",
      "IGRAPH D--- 402 410 -- \n",
      "image  3_bays29_100000/2_images/bays29_5_6\n",
      "projection nodes in LON 37  /  1313\n",
      "projection edges in LON 7  /  1325\n",
      "IGRAPH D--- 403 383 -- \n",
      "image  3_bays29_100000/6_projection_images/bays29_5_6\n"
     ]
    },
    {
     "data": {
      "text/html": [
       "<div style='width: 30%; margin: 1.5%; float: left'><img src='3_bays29_100000/6_projection_images/bays29_1_0.png' /><span>bays29_1_0.png</span></div><div style='width: 30%; margin: 1.5%; float: left'><img src='3_bays29_100000/6_projection_images/bays29_1_1.png' /><span>bays29_1_1.png</span></div><div style='width: 30%; margin: 1.5%; float: left'><img src='3_bays29_100000/6_projection_images/bays29_1_2.png' /><span>bays29_1_2.png</span></div><div style='width: 30%; margin: 1.5%; float: left'><img src='3_bays29_100000/6_projection_images/bays29_1_3.png' /><span>bays29_1_3.png</span></div><div style='width: 30%; margin: 1.5%; float: left'><img src='3_bays29_100000/6_projection_images/bays29_1_4.png' /><span>bays29_1_4.png</span></div><div style='width: 30%; margin: 1.5%; float: left'><img src='3_bays29_100000/6_projection_images/bays29_1_5.png' /><span>bays29_1_5.png</span></div><div style='width: 30%; margin: 1.5%; float: left'><img src='3_bays29_100000/6_projection_images/bays29_1_6.png' /><span>bays29_1_6.png</span></div><div style='width: 30%; margin: 1.5%; float: left'><img src='3_bays29_100000/6_projection_images/bays29_1_7.png' /><span>bays29_1_7.png</span></div><div style='width: 30%; margin: 1.5%; float: left'><img src='3_bays29_100000/6_projection_images/bays29_1_8.png' /><span>bays29_1_8.png</span></div><div style='width: 30%; margin: 1.5%; float: left'><img src='3_bays29_100000/6_projection_images/bays29_2_0.png' /><span>bays29_2_0.png</span></div><div style='width: 30%; margin: 1.5%; float: left'><img src='3_bays29_100000/6_projection_images/bays29_2_3.png' /><span>bays29_2_3.png</span></div><div style='width: 30%; margin: 1.5%; float: left'><img src='3_bays29_100000/6_projection_images/bays29_2_6.png' /><span>bays29_2_6.png</span></div><div style='width: 30%; margin: 1.5%; float: left'><img src='3_bays29_100000/6_projection_images/bays29_2_7.png' /><span>bays29_2_7.png</span></div><div style='width: 30%; margin: 1.5%; float: left'><img src='3_bays29_100000/6_projection_images/bays29_5_3.png' /><span>bays29_5_3.png</span></div><div style='width: 30%; margin: 1.5%; float: left'><img src='3_bays29_100000/6_projection_images/bays29_5_6.png' /><span>bays29_5_6.png</span></div>"
      ],
      "text/plain": [
       "<IPython.core.display.HTML object>"
      ]
     },
     "metadata": {},
     "output_type": "display_data"
    }
   ],
   "source": [
    "main_part6__projection_images(test_folder + \"/5_projections\", test_folder + \"/1_lons\", test_folder + \"/2_images\", test_folder + \"/6_projection_images\")\n",
    "print_images(test_folder + \"/6_projection_images\")"
   ]
  },
  {
   "cell_type": "markdown",
   "metadata": {},
   "source": [
    "LON projection metrics\n",
    "\n",
    "\n",
    "- ..."
   ]
  },
  {
   "cell_type": "code",
   "execution_count": 9,
   "metadata": {},
   "outputs": [],
   "source": [
    "# main_part7__projection_metrics(test_folder + \"/5_projections\", test_folder + \"/7_projection_metrics\")\n",
    "# print_projection_metrics(test_folder + \"/7_projection_metrics\")"
   ]
  },
  {
   "cell_type": "markdown",
   "metadata": {},
   "source": [
    "LON for sub-instance vs. LON projection \n",
    "\n",
    "\n",
    "- ..."
   ]
  },
  {
   "cell_type": "code",
   "execution_count": 10,
   "metadata": {
    "scrolled": false
   },
   "outputs": [
    {
     "data": {
      "text/html": [
       "<div style='width: 45%; margin: 2.5%; float: left'><img src='3_bays29_100000/6_projection_images/bays29.png' /><span>bays29.png - projection</span></div><div style='width: 45%; margin: 2.5%; float: left'><img src='3_bays29_100000/2_images/bays29.png' /><span>bays29.png - LON</span></div><div style='width: 45%; margin: 2.5%; float: left'><img src='3_bays29_100000/6_projection_images/bays29_1_0.png' /><span>bays29_1_0.png - projection</span></div><div style='width: 45%; margin: 2.5%; float: left'><img src='3_bays29_100000/2_images/bays29_1_0.png' /><span>bays29_1_0.png - LON</span></div><div style='width: 45%; margin: 2.5%; float: left'><img src='3_bays29_100000/6_projection_images/bays29_1_1.png' /><span>bays29_1_1.png - projection</span></div><div style='width: 45%; margin: 2.5%; float: left'><img src='3_bays29_100000/2_images/bays29_1_1.png' /><span>bays29_1_1.png - LON</span></div><div style='width: 45%; margin: 2.5%; float: left'><img src='3_bays29_100000/6_projection_images/bays29_1_2.png' /><span>bays29_1_2.png - projection</span></div><div style='width: 45%; margin: 2.5%; float: left'><img src='3_bays29_100000/2_images/bays29_1_2.png' /><span>bays29_1_2.png - LON</span></div><div style='width: 45%; margin: 2.5%; float: left'><img src='3_bays29_100000/6_projection_images/bays29_1_3.png' /><span>bays29_1_3.png - projection</span></div><div style='width: 45%; margin: 2.5%; float: left'><img src='3_bays29_100000/2_images/bays29_1_3.png' /><span>bays29_1_3.png - LON</span></div><div style='width: 45%; margin: 2.5%; float: left'><img src='3_bays29_100000/6_projection_images/bays29_1_4.png' /><span>bays29_1_4.png - projection</span></div><div style='width: 45%; margin: 2.5%; float: left'><img src='3_bays29_100000/2_images/bays29_1_4.png' /><span>bays29_1_4.png - LON</span></div><div style='width: 45%; margin: 2.5%; float: left'><img src='3_bays29_100000/6_projection_images/bays29_1_5.png' /><span>bays29_1_5.png - projection</span></div><div style='width: 45%; margin: 2.5%; float: left'><img src='3_bays29_100000/2_images/bays29_1_5.png' /><span>bays29_1_5.png - LON</span></div><div style='width: 45%; margin: 2.5%; float: left'><img src='3_bays29_100000/6_projection_images/bays29_1_6.png' /><span>bays29_1_6.png - projection</span></div><div style='width: 45%; margin: 2.5%; float: left'><img src='3_bays29_100000/2_images/bays29_1_6.png' /><span>bays29_1_6.png - LON</span></div><div style='width: 45%; margin: 2.5%; float: left'><img src='3_bays29_100000/6_projection_images/bays29_1_7.png' /><span>bays29_1_7.png - projection</span></div><div style='width: 45%; margin: 2.5%; float: left'><img src='3_bays29_100000/2_images/bays29_1_7.png' /><span>bays29_1_7.png - LON</span></div><div style='width: 45%; margin: 2.5%; float: left'><img src='3_bays29_100000/6_projection_images/bays29_1_8.png' /><span>bays29_1_8.png - projection</span></div><div style='width: 45%; margin: 2.5%; float: left'><img src='3_bays29_100000/2_images/bays29_1_8.png' /><span>bays29_1_8.png - LON</span></div><div style='width: 45%; margin: 2.5%; float: left'><img src='3_bays29_100000/6_projection_images/bays29_2_0.png' /><span>bays29_2_0.png - projection</span></div><div style='width: 45%; margin: 2.5%; float: left'><img src='3_bays29_100000/2_images/bays29_2_0.png' /><span>bays29_2_0.png - LON</span></div><div style='width: 45%; margin: 2.5%; float: left'><img src='3_bays29_100000/6_projection_images/bays29_2_3.png' /><span>bays29_2_3.png - projection</span></div><div style='width: 45%; margin: 2.5%; float: left'><img src='3_bays29_100000/2_images/bays29_2_3.png' /><span>bays29_2_3.png - LON</span></div><div style='width: 45%; margin: 2.5%; float: left'><img src='3_bays29_100000/6_projection_images/bays29_2_6.png' /><span>bays29_2_6.png - projection</span></div><div style='width: 45%; margin: 2.5%; float: left'><img src='3_bays29_100000/2_images/bays29_2_6.png' /><span>bays29_2_6.png - LON</span></div><div style='width: 45%; margin: 2.5%; float: left'><img src='3_bays29_100000/6_projection_images/bays29_2_7.png' /><span>bays29_2_7.png - projection</span></div><div style='width: 45%; margin: 2.5%; float: left'><img src='3_bays29_100000/2_images/bays29_2_7.png' /><span>bays29_2_7.png - LON</span></div><div style='width: 45%; margin: 2.5%; float: left'><img src='3_bays29_100000/6_projection_images/bays29_5_3.png' /><span>bays29_5_3.png - projection</span></div><div style='width: 45%; margin: 2.5%; float: left'><img src='3_bays29_100000/2_images/bays29_5_3.png' /><span>bays29_5_3.png - LON</span></div><div style='width: 45%; margin: 2.5%; float: left'><img src='3_bays29_100000/6_projection_images/bays29_5_6.png' /><span>bays29_5_6.png - projection</span></div><div style='width: 45%; margin: 2.5%; float: left'><img src='3_bays29_100000/2_images/bays29_5_6.png' /><span>bays29_5_6.png - LON</span></div>"
      ],
      "text/plain": [
       "<IPython.core.display.HTML object>"
      ]
     },
     "metadata": {},
     "output_type": "display_data"
    }
   ],
   "source": [
    "print_images_and_projections(test_folder + \"/2_images\", test_folder + \"/6_projection_images\")"
   ]
  },
  {
   "cell_type": "code",
   "execution_count": 11,
   "metadata": {},
   "outputs": [
    {
     "name": "stdout",
     "output_type": "stream",
     "text": [
      "Success rate [0.008, 0.039, 0.056, 0.016, 0.162]\n",
      "Iterations to success ['679.00', '1434.08', '1607.71', '1883.00', '1018.33']\n",
      "Number of nodes [1899, 1913, 2004, 1926, 1734]\n",
      "Number of edges [7, 7, 7, 7, 7]\n",
      "Number of sinks [99, 83, 90, 78, 47]\n",
      "Relative in-strength ['0.01', '0.09', '0.06', '0.03', '0.24']\n",
      "Proportion of nodes in optimal funnels ['0.05', '0.19', '0.21', '0.07', '0.50']\n",
      "Proportion of nodes with unique path length ['0.05', '0.19', '0.21', '0.07', '0.50']\n"
     ]
    }
   ],
   "source": [
    "test_folder_2 = \"4_bays29_1000\"\n",
    "main_part4__metrics(\"best\", test_folder_2 + \"/1_lons\", test_folder_2 + \"/3_performance_metrics\", test_folder_2 + \"/4_network_metrics\")\n",
    "print_metrics(test_folder_2 + \"/3_performance_metrics\", test_folder_2 + \"/4_network_metrics\")"
   ]
  },
  {
   "cell_type": "code",
   "execution_count": null,
   "metadata": {},
   "outputs": [],
   "source": []
  }
 ],
 "metadata": {
  "kernelspec": {
   "display_name": "Python 3",
   "language": "python",
   "name": "python3"
  },
  "language_info": {
   "codemirror_mode": {
    "name": "ipython",
    "version": 3
   },
   "file_extension": ".py",
   "mimetype": "text/x-python",
   "name": "python",
   "nbconvert_exporter": "python",
   "pygments_lexer": "ipython3",
   "version": "3.6.5"
  }
 },
 "nbformat": 4,
 "nbformat_minor": 2
}
