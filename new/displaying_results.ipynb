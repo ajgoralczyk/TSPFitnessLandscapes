{
 "cells": [
  {
   "cell_type": "code",
   "execution_count": 1,
   "metadata": {},
   "outputs": [
    {
     "ename": "ModuleNotFoundError",
     "evalue": "No module named 'visualization'",
     "output_type": "error",
     "traceback": [
      "\u001b[1;31m---------------------------------------------------------------------------\u001b[0m",
      "\u001b[1;31mModuleNotFoundError\u001b[0m                       Traceback (most recent call last)",
      "\u001b[1;32m<ipython-input-1-fd4ba24e61ae>\u001b[0m in \u001b[0;36m<module>\u001b[1;34m()\u001b[0m\n\u001b[1;32m----> 1\u001b[1;33m \u001b[1;32mfrom\u001b[0m \u001b[0mmain\u001b[0m \u001b[1;32mimport\u001b[0m \u001b[1;33m*\u001b[0m\u001b[1;33m\u001b[0m\u001b[0m\n\u001b[0m",
      "\u001b[1;32m~\\Documents\\GitHub\\TSPFitnessLandscapes\\new\\main.py\u001b[0m in \u001b[0;36m<module>\u001b[1;34m()\u001b[0m\n\u001b[0;32m      1\u001b[0m \u001b[1;32mimport\u001b[0m \u001b[0mos\u001b[0m\u001b[1;33m\u001b[0m\u001b[0m\n\u001b[1;32m----> 2\u001b[1;33m \u001b[1;32mfrom\u001b[0m \u001b[0mfitness_landcape\u001b[0m \u001b[1;32mimport\u001b[0m \u001b[1;33m*\u001b[0m\u001b[1;33m\u001b[0m\u001b[0m\n\u001b[0m\u001b[0;32m      3\u001b[0m \u001b[1;33m\u001b[0m\u001b[0m\n\u001b[0;32m      4\u001b[0m \u001b[1;31m### main\u001b[0m\u001b[1;33m\u001b[0m\u001b[1;33m\u001b[0m\u001b[0m\n\u001b[0;32m      5\u001b[0m \u001b[1;33m\u001b[0m\u001b[0m\n",
      "\u001b[1;32m~\\Documents\\GitHub\\TSPFitnessLandscapes\\new\\fitness_landcape.py\u001b[0m in \u001b[0;36m<module>\u001b[1;34m()\u001b[0m\n\u001b[0;32m      2\u001b[0m \u001b[1;32mimport\u001b[0m \u001b[0mtime\u001b[0m\u001b[1;33m\u001b[0m\u001b[0m\n\u001b[0;32m      3\u001b[0m \u001b[1;32mimport\u001b[0m \u001b[0mmath\u001b[0m\u001b[1;33m\u001b[0m\u001b[0m\n\u001b[1;32m----> 4\u001b[1;33m \u001b[1;32mfrom\u001b[0m \u001b[0mvisualization\u001b[0m \u001b[1;32mimport\u001b[0m \u001b[1;33m*\u001b[0m\u001b[1;33m\u001b[0m\u001b[0m\n\u001b[0m\u001b[0;32m      5\u001b[0m \u001b[1;32mimport\u001b[0m \u001b[0min_out\u001b[0m \u001b[1;32mas\u001b[0m \u001b[0mio\u001b[0m\u001b[1;33m\u001b[0m\u001b[0m\n\u001b[0;32m      6\u001b[0m \u001b[1;33m\u001b[0m\u001b[0m\n",
      "\u001b[1;31mModuleNotFoundError\u001b[0m: No module named 'visualization'"
     ]
    }
   ],
   "source": [
    "from main import *"
   ]
  },
  {
   "cell_type": "markdown",
   "metadata": {},
   "source": [
    "Sub-instances & LON generation\n",
    "\n",
    "\n",
    "- problem: bays29\n",
    "- 28 sub-instances (9 without 1 vertex, 9 without 2, 10 without 5)\n",
    "- 1000  Chained-LK runs\n",
    "- kick strength = 1\n",
    "- termination criterion = 1 000 consecutive non-improving iterations (later 10 000 will be used)\n"
   ]
  },
  {
   "cell_type": "code",
   "execution_count": 2,
   "metadata": {},
   "outputs": [],
   "source": [
    "data_file = \"bays29.tsp\"\n",
    "data_folder = \"data_bays29\"\n",
    "test_folder = \"1_bays29_1000\"\n",
    "kick_strength = 1"
   ]
  },
  {
   "cell_type": "code",
   "execution_count": 3,
   "metadata": {},
   "outputs": [],
   "source": [
    "# main_part1__TSP_problems(data_file, data_folder)"
   ]
  },
  {
   "cell_type": "code",
   "execution_count": 4,
   "metadata": {},
   "outputs": [],
   "source": [
    "# done independently on different computers\n",
    "# main_part2__LONs(data_folder, test_folder + \"/1_lons\", test_folder + \"/3_performance_metrics\", kick_strength)"
   ]
  },
  {
   "cell_type": "markdown",
   "metadata": {},
   "source": [
    "LON image generation\n",
    "\n",
    "\n",
    "- nodes & edges selection ..."
   ]
  },
  {
   "cell_type": "code",
   "execution_count": 5,
   "metadata": {
    "scrolled": false
   },
   "outputs": [
    {
     "data": {
      "text/html": [
       "<div style='width: 30%; margin: 1.5%; float: left'><img src='1_bays29_1000/2_images/bays29.png' /><span>bays29.png</span></div><div style='width: 30%; margin: 1.5%; float: left'><img src='1_bays29_1000/2_images/bays29_1_0.png' /><span>bays29_1_0.png</span></div><div style='width: 30%; margin: 1.5%; float: left'><img src='1_bays29_1000/2_images/bays29_1_1.png' /><span>bays29_1_1.png</span></div><div style='width: 30%; margin: 1.5%; float: left'><img src='1_bays29_1000/2_images/bays29_1_2.png' /><span>bays29_1_2.png</span></div><div style='width: 30%; margin: 1.5%; float: left'><img src='1_bays29_1000/2_images/bays29_1_3.png' /><span>bays29_1_3.png</span></div><div style='width: 30%; margin: 1.5%; float: left'><img src='1_bays29_1000/2_images/bays29_1_4.png' /><span>bays29_1_4.png</span></div><div style='width: 30%; margin: 1.5%; float: left'><img src='1_bays29_1000/2_images/bays29_1_5.png' /><span>bays29_1_5.png</span></div><div style='width: 30%; margin: 1.5%; float: left'><img src='1_bays29_1000/2_images/bays29_1_6.png' /><span>bays29_1_6.png</span></div><div style='width: 30%; margin: 1.5%; float: left'><img src='1_bays29_1000/2_images/bays29_1_7.png' /><span>bays29_1_7.png</span></div><div style='width: 30%; margin: 1.5%; float: left'><img src='1_bays29_1000/2_images/bays29_1_8.png' /><span>bays29_1_8.png</span></div><div style='width: 30%; margin: 1.5%; float: left'><img src='1_bays29_1000/2_images/bays29_2_0.png' /><span>bays29_2_0.png</span></div><div style='width: 30%; margin: 1.5%; float: left'><img src='1_bays29_1000/2_images/bays29_2_1.png' /><span>bays29_2_1.png</span></div><div style='width: 30%; margin: 1.5%; float: left'><img src='1_bays29_1000/2_images/bays29_2_2.png' /><span>bays29_2_2.png</span></div><div style='width: 30%; margin: 1.5%; float: left'><img src='1_bays29_1000/2_images/bays29_2_3.png' /><span>bays29_2_3.png</span></div><div style='width: 30%; margin: 1.5%; float: left'><img src='1_bays29_1000/2_images/bays29_2_4.png' /><span>bays29_2_4.png</span></div><div style='width: 30%; margin: 1.5%; float: left'><img src='1_bays29_1000/2_images/bays29_2_5.png' /><span>bays29_2_5.png</span></div><div style='width: 30%; margin: 1.5%; float: left'><img src='1_bays29_1000/2_images/bays29_2_6.png' /><span>bays29_2_6.png</span></div><div style='width: 30%; margin: 1.5%; float: left'><img src='1_bays29_1000/2_images/bays29_2_7.png' /><span>bays29_2_7.png</span></div><div style='width: 30%; margin: 1.5%; float: left'><img src='1_bays29_1000/2_images/bays29_2_8.png' /><span>bays29_2_8.png</span></div><div style='width: 30%; margin: 1.5%; float: left'><img src='1_bays29_1000/2_images/bays29_5_0.png' /><span>bays29_5_0.png</span></div><div style='width: 30%; margin: 1.5%; float: left'><img src='1_bays29_1000/2_images/bays29_5_1.png' /><span>bays29_5_1.png</span></div><div style='width: 30%; margin: 1.5%; float: left'><img src='1_bays29_1000/2_images/bays29_5_2.png' /><span>bays29_5_2.png</span></div><div style='width: 30%; margin: 1.5%; float: left'><img src='1_bays29_1000/2_images/bays29_5_3.png' /><span>bays29_5_3.png</span></div><div style='width: 30%; margin: 1.5%; float: left'><img src='1_bays29_1000/2_images/bays29_5_4.png' /><span>bays29_5_4.png</span></div><div style='width: 30%; margin: 1.5%; float: left'><img src='1_bays29_1000/2_images/bays29_5_5.png' /><span>bays29_5_5.png</span></div><div style='width: 30%; margin: 1.5%; float: left'><img src='1_bays29_1000/2_images/bays29_5_6.png' /><span>bays29_5_6.png</span></div><div style='width: 30%; margin: 1.5%; float: left'><img src='1_bays29_1000/2_images/bays29_5_7.png' /><span>bays29_5_7.png</span></div><div style='width: 30%; margin: 1.5%; float: left'><img src='1_bays29_1000/2_images/bays29_5_8.png' /><span>bays29_5_8.png</span></div><div style='width: 30%; margin: 1.5%; float: left'><img src='1_bays29_1000/2_images/bays29_5_9.png' /><span>bays29_5_9.png</span></div>"
      ],
      "text/plain": [
       "<IPython.core.display.HTML object>"
      ]
     },
     "metadata": {},
     "output_type": "display_data"
    }
   ],
   "source": [
    "# main_part3__images(test_folder + \"/1_lons\", test_folder + \"/2_images\")\n",
    "print_images(test_folder + \"/2_images\")"
   ]
  },
  {
   "cell_type": "markdown",
   "metadata": {},
   "source": [
    "Network & performance metrics\n",
    "\n",
    "\n",
    "- success rate\n",
    "- mean number of iterations to success\n",
    "- number of nodes in LON\n",
    "- number of sinks in LON\n",
    "- relative in-strength of the globally optimal sink\n",
    "- proportion of nodes in the globally optimal funnels\n",
    "- proportion of nodes with unique path length"
   ]
  },
  {
   "cell_type": "code",
   "execution_count": 6,
   "metadata": {},
   "outputs": [
    {
     "name": "stdout",
     "output_type": "stream",
     "text": [
      "Success rate [0.047, 0.023, 0.011, 0.024, 0.011, 0.048, 0.011, 0.024, 0.048, 0.048, 0.059, 0.071, 0.024, 0.024, 0.19, 0.011, 0.036, 0.035, 0.036, 0.178, 0.06, 0.023, 0.142, 0.036, 0.144, 0.203, 0.143, 0.084, 0.023]\n",
      "Iterations to success ['1387.66', '1873.26', '2567.00', '831.50', '2211.00', '761.75', '2211.00', '875.00', '1207.50', '761.75', '1783.56', '1441.20', '1176.00', '1452.00', '1792.21', '1488.00', '1848.00', '1479.06', '1071.00', '880.90', '1522.40', '1163.30', '1203.51', '1919.33', '1103.00', '1136.79', '1750.74', '1429.43', '1650.70']\n",
      "Number of nodes [1423, 1328, 1263, 1279, 1263, 1314, 1263, 1335, 1284, 1314, 1234, 1276, 1179, 1216, 1296, 1266, 1285, 1308, 1289, 1141, 1218, 1155, 1133, 1188, 1190, 1154, 1152, 1189, 1189]\n",
      "Number of sinks [74, 77, 79, 74, 82, 76, 82, 73, 71, 76, 67, 69, 75, 69, 33, 81, 72, 68, 73, 47, 46, 59, 40, 59, 35, 51, 37, 30, 59]\n",
      "Relative in-strength ['0.04', '0.03', '0.02', '0.04', '0.02', '0.05', '0.02', '0.04', '0.04', '0.05', '0.07', '0.13', '0.05', '0.05', '0.13', '0.02', '0.02', '0.04', '0.06', '0.19', '0.07', '0.03', '0.21', '0.05', '0.24', '0.29', '0.22', '0.15', '0.05']\n",
      "Proportion of nodes in optimal funnels ['0.07', '0.06', '0.01', '0.08', '0.03', '0.09', '0.03', '0.03', '0.15', '0.09', '0.15', '0.13', '0.02', '0.07', '0.62', '0.01', '0.11', '0.05', '0.06', '0.24', '0.32', '0.04', '0.46', '0.31', '0.44', '0.39', '0.54', '0.33', '0.09']\n",
      "Proportion of nodes with unique path length ['0.61', '0.63', '0.62', '0.62', '0.63', '0.64', '0.63', '0.65', '0.64', '0.64', '0.63', '0.63', '0.64', '0.64', '0.63', '0.60', '0.65', '0.60', '0.66', '0.62', '0.62', '0.65', '0.67', '0.62', '0.68', '0.65', '0.61', '0.68', '0.60']\n"
     ]
    }
   ],
   "source": [
    "main_part4__metrics(test_folder + \"/1_lons\", test_folder + \"/3_performance_metrics\", test_folder + \"/4_network_metrics\")\n",
    "print_metrics(test_folder + \"/3_performance_metrics\", test_folder + \"/4_network_metrics\")"
   ]
  },
  {
   "cell_type": "markdown",
   "metadata": {},
   "source": [
    "LON projection images\n",
    "\n",
    "\n",
    "- with and without: loops and 'upstream edges' (edges from original graphs that in projection point from node representing shorter to longer path)\n",
    "- ..."
   ]
  },
  {
   "cell_type": "code",
   "execution_count": 6,
   "metadata": {
    "scrolled": false
   },
   "outputs": [
    {
     "name": "stdout",
     "output_type": "stream",
     "text": [
      "loops 15 upstream edges 182\n",
      "loops 3 upstream edges 51\n",
      "loops 0 upstream edges 59\n",
      "loops 1 upstream edges 55\n",
      "loops 3 upstream edges 138\n",
      "loops 1 upstream edges 55\n",
      "loops 7 upstream edges 138\n",
      "loops 1 upstream edges 38\n",
      "loops 3 upstream edges 138\n",
      "loops 5 upstream edges 79\n",
      "loops 15 upstream edges 210\n",
      "loops 4 upstream edges 73\n",
      "loops 11 upstream edges 192\n",
      "loops 17 upstream edges 237\n",
      "loops 3 upstream edges 90\n",
      "loops 10 upstream edges 174\n",
      "loops 1 upstream edges 90\n",
      "loops 18 upstream edges 223\n",
      "loops 10 upstream edges 218\n",
      "loops 27 upstream edges 291\n",
      "loops 23 upstream edges 280\n",
      "loops 16 upstream edges 317\n",
      "loops 10 upstream edges 274\n",
      "loops 25 upstream edges 311\n",
      "loops 13 upstream edges 286\n",
      "loops 18 upstream edges 198\n",
      "loops 21 upstream edges 290\n",
      "loops 16 upstream edges 260\n"
     ]
    }
   ],
   "source": [
    "main_part5__projections(test_folder + \"/1_lons\", test_folder + \"/5_projections\")"
   ]
  },
  {
   "cell_type": "code",
   "execution_count": 7,
   "metadata": {
    "scrolled": true
   },
   "outputs": [
    {
     "name": "stdout",
     "output_type": "stream",
     "text": [
      "IGRAPH D--- 403 331 -- \n",
      "image  1_bays29_1000/2_images/bays29_1_0\n",
      "IGRAPH D--- 401 250 -- \n",
      "image  1_bays29_1000/6_projection_images/bays29_1_0\n",
      "IGRAPH D--- 404 327 -- \n",
      "image  1_bays29_1000/2_images/bays29_1_1\n",
      "IGRAPH D--- 403 329 -- \n",
      "image  1_bays29_1000/6_projection_images/bays29_1_1\n",
      "IGRAPH D--- 401 329 -- \n",
      "image  1_bays29_1000/2_images/bays29_1_2\n",
      "IGRAPH D--- 404 324 -- \n",
      "image  1_bays29_1000/6_projection_images/bays29_1_2\n",
      "IGRAPH D--- 401 322 -- \n",
      "image  1_bays29_1000/2_images/bays29_1_3\n",
      "IGRAPH D--- 402 332 -- \n",
      "image  1_bays29_1000/6_projection_images/bays29_1_3\n",
      "IGRAPH D--- 401 332 -- \n",
      "image  1_bays29_1000/2_images/bays29_1_4\n",
      "IGRAPH D--- 404 289 -- \n",
      "image  1_bays29_1000/6_projection_images/bays29_1_4\n",
      "IGRAPH D--- 401 322 -- \n",
      "image  1_bays29_1000/2_images/bays29_1_5\n",
      "IGRAPH D--- 402 332 -- \n",
      "image  1_bays29_1000/6_projection_images/bays29_1_5\n",
      "IGRAPH D--- 403 335 -- \n",
      "image  1_bays29_1000/2_images/bays29_1_6\n",
      "IGRAPH D--- 401 284 -- \n",
      "image  1_bays29_1000/6_projection_images/bays29_1_6\n",
      "IGRAPH D--- 401 338 -- \n",
      "image  1_bays29_1000/2_images/bays29_1_7\n",
      "IGRAPH D--- 404 335 -- \n",
      "image  1_bays29_1000/6_projection_images/bays29_1_7\n",
      "IGRAPH D--- 401 332 -- \n",
      "image  1_bays29_1000/2_images/bays29_1_8\n",
      "IGRAPH D--- 404 289 -- \n",
      "image  1_bays29_1000/6_projection_images/bays29_1_8\n",
      "IGRAPH D--- 402 348 -- \n",
      "image  1_bays29_1000/2_images/bays29_2_0\n",
      "IGRAPH D--- 402 332 -- \n",
      "image  1_bays29_1000/6_projection_images/bays29_2_0\n",
      "IGRAPH D--- 401 341 -- \n",
      "image  1_bays29_1000/2_images/bays29_2_1\n",
      "IGRAPH D--- 406 249 -- \n",
      "image  1_bays29_1000/6_projection_images/bays29_2_1\n",
      "IGRAPH D--- 402 331 -- \n",
      "image  1_bays29_1000/2_images/bays29_2_2\n",
      "IGRAPH D--- 403 325 -- \n",
      "image  1_bays29_1000/6_projection_images/bays29_2_2\n",
      "IGRAPH D--- 403 342 -- \n",
      "image  1_bays29_1000/2_images/bays29_2_3\n",
      "IGRAPH D--- 401 261 -- \n",
      "image  1_bays29_1000/6_projection_images/bays29_2_3\n",
      "IGRAPH D--- 402 396 -- \n",
      "image  1_bays29_1000/2_images/bays29_2_4\n",
      "IGRAPH D--- 402 239 -- \n",
      "image  1_bays29_1000/6_projection_images/bays29_2_4\n",
      "IGRAPH D--- 402 324 -- \n",
      "image  1_bays29_1000/2_images/bays29_2_5\n",
      "IGRAPH D--- 401 326 -- \n",
      "image  1_bays29_1000/6_projection_images/bays29_2_5\n",
      "IGRAPH D--- 401 340 -- \n",
      "image  1_bays29_1000/2_images/bays29_2_6\n",
      "IGRAPH D--- 401 275 -- \n",
      "image  1_bays29_1000/6_projection_images/bays29_2_6\n",
      "IGRAPH D--- 403 338 -- \n",
      "image  1_bays29_1000/2_images/bays29_2_7\n",
      "IGRAPH D--- 403 332 -- \n",
      "image  1_bays29_1000/6_projection_images/bays29_2_7\n",
      "IGRAPH D--- 402 332 -- \n",
      "image  1_bays29_1000/2_images/bays29_2_8\n",
      "IGRAPH D--- 402 240 -- \n",
      "image  1_bays29_1000/6_projection_images/bays29_2_8\n",
      "IGRAPH D--- 404 369 -- \n",
      "image  1_bays29_1000/2_images/bays29_5_0\n",
      "IGRAPH D--- 401 272 -- \n",
      "image  1_bays29_1000/6_projection_images/bays29_5_0\n",
      "IGRAPH D--- 401 378 -- \n",
      "image  1_bays29_1000/2_images/bays29_5_1\n",
      "IGRAPH D--- 402 252 -- \n",
      "image  1_bays29_1000/6_projection_images/bays29_5_1\n",
      "IGRAPH D--- 401 348 -- \n",
      "image  1_bays29_1000/2_images/bays29_5_2\n",
      "IGRAPH D--- 404 220 -- \n",
      "image  1_bays29_1000/6_projection_images/bays29_5_2\n",
      "IGRAPH D--- 403 387 -- \n",
      "image  1_bays29_1000/2_images/bays29_5_3\n",
      "IGRAPH D--- 404 237 -- \n",
      "image  1_bays29_1000/6_projection_images/bays29_5_3\n",
      "IGRAPH D--- 403 359 -- \n",
      "image  1_bays29_1000/2_images/bays29_5_4\n",
      "IGRAPH D--- 404 234 -- \n",
      "image  1_bays29_1000/6_projection_images/bays29_5_4\n",
      "IGRAPH D--- 403 397 -- \n",
      "image  1_bays29_1000/2_images/bays29_5_5\n",
      "IGRAPH D--- 403 255 -- \n",
      "image  1_bays29_1000/6_projection_images/bays29_5_5\n",
      "IGRAPH D--- 402 362 -- \n",
      "image  1_bays29_1000/2_images/bays29_5_6\n",
      "IGRAPH D--- 402 242 -- \n",
      "image  1_bays29_1000/6_projection_images/bays29_5_6\n",
      "IGRAPH D--- 401 390 -- \n",
      "image  1_bays29_1000/2_images/bays29_5_7\n",
      "IGRAPH D--- 402 305 -- \n",
      "image  1_bays29_1000/6_projection_images/bays29_5_7\n",
      "IGRAPH D--- 402 402 -- \n",
      "image  1_bays29_1000/2_images/bays29_5_8\n",
      "IGRAPH D--- 401 241 -- \n",
      "image  1_bays29_1000/6_projection_images/bays29_5_8\n",
      "IGRAPH D--- 401 354 -- \n",
      "image  1_bays29_1000/2_images/bays29_5_9\n",
      "IGRAPH D--- 401 250 -- \n",
      "image  1_bays29_1000/6_projection_images/bays29_5_9\n"
     ]
    },
    {
     "data": {
      "text/html": [
       "<div style='width: 30%; margin: 1.5%; float: left'><img src='1_bays29_1000/6_projection_images/bays29_1_0.png' /><span>bays29_1_0.png</span></div><div style='width: 30%; margin: 1.5%; float: left'><img src='1_bays29_1000/6_projection_images/bays29_1_1.png' /><span>bays29_1_1.png</span></div><div style='width: 30%; margin: 1.5%; float: left'><img src='1_bays29_1000/6_projection_images/bays29_1_2.png' /><span>bays29_1_2.png</span></div><div style='width: 30%; margin: 1.5%; float: left'><img src='1_bays29_1000/6_projection_images/bays29_1_3.png' /><span>bays29_1_3.png</span></div><div style='width: 30%; margin: 1.5%; float: left'><img src='1_bays29_1000/6_projection_images/bays29_1_4.png' /><span>bays29_1_4.png</span></div><div style='width: 30%; margin: 1.5%; float: left'><img src='1_bays29_1000/6_projection_images/bays29_1_5.png' /><span>bays29_1_5.png</span></div><div style='width: 30%; margin: 1.5%; float: left'><img src='1_bays29_1000/6_projection_images/bays29_1_6.png' /><span>bays29_1_6.png</span></div><div style='width: 30%; margin: 1.5%; float: left'><img src='1_bays29_1000/6_projection_images/bays29_1_7.png' /><span>bays29_1_7.png</span></div><div style='width: 30%; margin: 1.5%; float: left'><img src='1_bays29_1000/6_projection_images/bays29_1_8.png' /><span>bays29_1_8.png</span></div><div style='width: 30%; margin: 1.5%; float: left'><img src='1_bays29_1000/6_projection_images/bays29_2_0.png' /><span>bays29_2_0.png</span></div><div style='width: 30%; margin: 1.5%; float: left'><img src='1_bays29_1000/6_projection_images/bays29_2_1.png' /><span>bays29_2_1.png</span></div><div style='width: 30%; margin: 1.5%; float: left'><img src='1_bays29_1000/6_projection_images/bays29_2_2.png' /><span>bays29_2_2.png</span></div><div style='width: 30%; margin: 1.5%; float: left'><img src='1_bays29_1000/6_projection_images/bays29_2_3.png' /><span>bays29_2_3.png</span></div><div style='width: 30%; margin: 1.5%; float: left'><img src='1_bays29_1000/6_projection_images/bays29_2_4.png' /><span>bays29_2_4.png</span></div><div style='width: 30%; margin: 1.5%; float: left'><img src='1_bays29_1000/6_projection_images/bays29_2_5.png' /><span>bays29_2_5.png</span></div><div style='width: 30%; margin: 1.5%; float: left'><img src='1_bays29_1000/6_projection_images/bays29_2_6.png' /><span>bays29_2_6.png</span></div><div style='width: 30%; margin: 1.5%; float: left'><img src='1_bays29_1000/6_projection_images/bays29_2_7.png' /><span>bays29_2_7.png</span></div><div style='width: 30%; margin: 1.5%; float: left'><img src='1_bays29_1000/6_projection_images/bays29_2_8.png' /><span>bays29_2_8.png</span></div><div style='width: 30%; margin: 1.5%; float: left'><img src='1_bays29_1000/6_projection_images/bays29_5_0.png' /><span>bays29_5_0.png</span></div><div style='width: 30%; margin: 1.5%; float: left'><img src='1_bays29_1000/6_projection_images/bays29_5_1.png' /><span>bays29_5_1.png</span></div><div style='width: 30%; margin: 1.5%; float: left'><img src='1_bays29_1000/6_projection_images/bays29_5_2.png' /><span>bays29_5_2.png</span></div><div style='width: 30%; margin: 1.5%; float: left'><img src='1_bays29_1000/6_projection_images/bays29_5_3.png' /><span>bays29_5_3.png</span></div><div style='width: 30%; margin: 1.5%; float: left'><img src='1_bays29_1000/6_projection_images/bays29_5_4.png' /><span>bays29_5_4.png</span></div><div style='width: 30%; margin: 1.5%; float: left'><img src='1_bays29_1000/6_projection_images/bays29_5_5.png' /><span>bays29_5_5.png</span></div><div style='width: 30%; margin: 1.5%; float: left'><img src='1_bays29_1000/6_projection_images/bays29_5_6.png' /><span>bays29_5_6.png</span></div><div style='width: 30%; margin: 1.5%; float: left'><img src='1_bays29_1000/6_projection_images/bays29_5_7.png' /><span>bays29_5_7.png</span></div><div style='width: 30%; margin: 1.5%; float: left'><img src='1_bays29_1000/6_projection_images/bays29_5_8.png' /><span>bays29_5_8.png</span></div><div style='width: 30%; margin: 1.5%; float: left'><img src='1_bays29_1000/6_projection_images/bays29_5_9.png' /><span>bays29_5_9.png</span></div>"
      ],
      "text/plain": [
       "<IPython.core.display.HTML object>"
      ]
     },
     "metadata": {},
     "output_type": "display_data"
    }
   ],
   "source": [
    "main_part6__projection_images(test_folder + \"/5_projections\", test_folder + \"/1_lons\", test_folder + \"/2_images\", test_folder + \"/6_projection_images\")\n",
    "print_images(test_folder + \"/6_projection_images\")"
   ]
  },
  {
   "cell_type": "markdown",
   "metadata": {},
   "source": [
    "LON projection metrics\n",
    "\n",
    "\n",
    "- ..."
   ]
  },
  {
   "cell_type": "code",
   "execution_count": 8,
   "metadata": {},
   "outputs": [],
   "source": [
    "# main_part7__projection_metrics(test_folder + \"/5_projections\", test_folder + \"/7_projection_metrics\")\n",
    "# print_projection_metrics(test_folder + \"/7_projection_metrics\")"
   ]
  },
  {
   "cell_type": "markdown",
   "metadata": {},
   "source": [
    "LON for sub-instance vs. LON projection \n",
    "\n",
    "\n",
    "- ..."
   ]
  },
  {
   "cell_type": "code",
   "execution_count": 9,
   "metadata": {
    "scrolled": false
   },
   "outputs": [
    {
     "data": {
      "text/html": [
       "<div style='width: 45%; margin: 2.5%; float: left'><img src='1_bays29_1000/6_projection_images/bays29.png' /><span>bays29.png - projection</span></div><div style='width: 45%; margin: 2.5%; float: left'><img src='1_bays29_1000/2_images/bays29.png' /><span>bays29.png - LON</span></div><div style='width: 45%; margin: 2.5%; float: left'><img src='1_bays29_1000/6_projection_images/bays29_1_0.png' /><span>bays29_1_0.png - projection</span></div><div style='width: 45%; margin: 2.5%; float: left'><img src='1_bays29_1000/2_images/bays29_1_0.png' /><span>bays29_1_0.png - LON</span></div><div style='width: 45%; margin: 2.5%; float: left'><img src='1_bays29_1000/6_projection_images/bays29_1_1.png' /><span>bays29_1_1.png - projection</span></div><div style='width: 45%; margin: 2.5%; float: left'><img src='1_bays29_1000/2_images/bays29_1_1.png' /><span>bays29_1_1.png - LON</span></div><div style='width: 45%; margin: 2.5%; float: left'><img src='1_bays29_1000/6_projection_images/bays29_1_2.png' /><span>bays29_1_2.png - projection</span></div><div style='width: 45%; margin: 2.5%; float: left'><img src='1_bays29_1000/2_images/bays29_1_2.png' /><span>bays29_1_2.png - LON</span></div><div style='width: 45%; margin: 2.5%; float: left'><img src='1_bays29_1000/6_projection_images/bays29_1_3.png' /><span>bays29_1_3.png - projection</span></div><div style='width: 45%; margin: 2.5%; float: left'><img src='1_bays29_1000/2_images/bays29_1_3.png' /><span>bays29_1_3.png - LON</span></div><div style='width: 45%; margin: 2.5%; float: left'><img src='1_bays29_1000/6_projection_images/bays29_1_4.png' /><span>bays29_1_4.png - projection</span></div><div style='width: 45%; margin: 2.5%; float: left'><img src='1_bays29_1000/2_images/bays29_1_4.png' /><span>bays29_1_4.png - LON</span></div><div style='width: 45%; margin: 2.5%; float: left'><img src='1_bays29_1000/6_projection_images/bays29_1_5.png' /><span>bays29_1_5.png - projection</span></div><div style='width: 45%; margin: 2.5%; float: left'><img src='1_bays29_1000/2_images/bays29_1_5.png' /><span>bays29_1_5.png - LON</span></div><div style='width: 45%; margin: 2.5%; float: left'><img src='1_bays29_1000/6_projection_images/bays29_1_6.png' /><span>bays29_1_6.png - projection</span></div><div style='width: 45%; margin: 2.5%; float: left'><img src='1_bays29_1000/2_images/bays29_1_6.png' /><span>bays29_1_6.png - LON</span></div><div style='width: 45%; margin: 2.5%; float: left'><img src='1_bays29_1000/6_projection_images/bays29_1_7.png' /><span>bays29_1_7.png - projection</span></div><div style='width: 45%; margin: 2.5%; float: left'><img src='1_bays29_1000/2_images/bays29_1_7.png' /><span>bays29_1_7.png - LON</span></div><div style='width: 45%; margin: 2.5%; float: left'><img src='1_bays29_1000/6_projection_images/bays29_1_8.png' /><span>bays29_1_8.png - projection</span></div><div style='width: 45%; margin: 2.5%; float: left'><img src='1_bays29_1000/2_images/bays29_1_8.png' /><span>bays29_1_8.png - LON</span></div><div style='width: 45%; margin: 2.5%; float: left'><img src='1_bays29_1000/6_projection_images/bays29_2_0.png' /><span>bays29_2_0.png - projection</span></div><div style='width: 45%; margin: 2.5%; float: left'><img src='1_bays29_1000/2_images/bays29_2_0.png' /><span>bays29_2_0.png - LON</span></div><div style='width: 45%; margin: 2.5%; float: left'><img src='1_bays29_1000/6_projection_images/bays29_2_1.png' /><span>bays29_2_1.png - projection</span></div><div style='width: 45%; margin: 2.5%; float: left'><img src='1_bays29_1000/2_images/bays29_2_1.png' /><span>bays29_2_1.png - LON</span></div><div style='width: 45%; margin: 2.5%; float: left'><img src='1_bays29_1000/6_projection_images/bays29_2_2.png' /><span>bays29_2_2.png - projection</span></div><div style='width: 45%; margin: 2.5%; float: left'><img src='1_bays29_1000/2_images/bays29_2_2.png' /><span>bays29_2_2.png - LON</span></div><div style='width: 45%; margin: 2.5%; float: left'><img src='1_bays29_1000/6_projection_images/bays29_2_3.png' /><span>bays29_2_3.png - projection</span></div><div style='width: 45%; margin: 2.5%; float: left'><img src='1_bays29_1000/2_images/bays29_2_3.png' /><span>bays29_2_3.png - LON</span></div><div style='width: 45%; margin: 2.5%; float: left'><img src='1_bays29_1000/6_projection_images/bays29_2_4.png' /><span>bays29_2_4.png - projection</span></div><div style='width: 45%; margin: 2.5%; float: left'><img src='1_bays29_1000/2_images/bays29_2_4.png' /><span>bays29_2_4.png - LON</span></div><div style='width: 45%; margin: 2.5%; float: left'><img src='1_bays29_1000/6_projection_images/bays29_2_5.png' /><span>bays29_2_5.png - projection</span></div><div style='width: 45%; margin: 2.5%; float: left'><img src='1_bays29_1000/2_images/bays29_2_5.png' /><span>bays29_2_5.png - LON</span></div><div style='width: 45%; margin: 2.5%; float: left'><img src='1_bays29_1000/6_projection_images/bays29_2_6.png' /><span>bays29_2_6.png - projection</span></div><div style='width: 45%; margin: 2.5%; float: left'><img src='1_bays29_1000/2_images/bays29_2_6.png' /><span>bays29_2_6.png - LON</span></div><div style='width: 45%; margin: 2.5%; float: left'><img src='1_bays29_1000/6_projection_images/bays29_2_7.png' /><span>bays29_2_7.png - projection</span></div><div style='width: 45%; margin: 2.5%; float: left'><img src='1_bays29_1000/2_images/bays29_2_7.png' /><span>bays29_2_7.png - LON</span></div><div style='width: 45%; margin: 2.5%; float: left'><img src='1_bays29_1000/6_projection_images/bays29_2_8.png' /><span>bays29_2_8.png - projection</span></div><div style='width: 45%; margin: 2.5%; float: left'><img src='1_bays29_1000/2_images/bays29_2_8.png' /><span>bays29_2_8.png - LON</span></div><div style='width: 45%; margin: 2.5%; float: left'><img src='1_bays29_1000/6_projection_images/bays29_5_0.png' /><span>bays29_5_0.png - projection</span></div><div style='width: 45%; margin: 2.5%; float: left'><img src='1_bays29_1000/2_images/bays29_5_0.png' /><span>bays29_5_0.png - LON</span></div><div style='width: 45%; margin: 2.5%; float: left'><img src='1_bays29_1000/6_projection_images/bays29_5_1.png' /><span>bays29_5_1.png - projection</span></div><div style='width: 45%; margin: 2.5%; float: left'><img src='1_bays29_1000/2_images/bays29_5_1.png' /><span>bays29_5_1.png - LON</span></div><div style='width: 45%; margin: 2.5%; float: left'><img src='1_bays29_1000/6_projection_images/bays29_5_2.png' /><span>bays29_5_2.png - projection</span></div><div style='width: 45%; margin: 2.5%; float: left'><img src='1_bays29_1000/2_images/bays29_5_2.png' /><span>bays29_5_2.png - LON</span></div><div style='width: 45%; margin: 2.5%; float: left'><img src='1_bays29_1000/6_projection_images/bays29_5_3.png' /><span>bays29_5_3.png - projection</span></div><div style='width: 45%; margin: 2.5%; float: left'><img src='1_bays29_1000/2_images/bays29_5_3.png' /><span>bays29_5_3.png - LON</span></div><div style='width: 45%; margin: 2.5%; float: left'><img src='1_bays29_1000/6_projection_images/bays29_5_4.png' /><span>bays29_5_4.png - projection</span></div><div style='width: 45%; margin: 2.5%; float: left'><img src='1_bays29_1000/2_images/bays29_5_4.png' /><span>bays29_5_4.png - LON</span></div><div style='width: 45%; margin: 2.5%; float: left'><img src='1_bays29_1000/6_projection_images/bays29_5_5.png' /><span>bays29_5_5.png - projection</span></div><div style='width: 45%; margin: 2.5%; float: left'><img src='1_bays29_1000/2_images/bays29_5_5.png' /><span>bays29_5_5.png - LON</span></div><div style='width: 45%; margin: 2.5%; float: left'><img src='1_bays29_1000/6_projection_images/bays29_5_6.png' /><span>bays29_5_6.png - projection</span></div><div style='width: 45%; margin: 2.5%; float: left'><img src='1_bays29_1000/2_images/bays29_5_6.png' /><span>bays29_5_6.png - LON</span></div><div style='width: 45%; margin: 2.5%; float: left'><img src='1_bays29_1000/6_projection_images/bays29_5_7.png' /><span>bays29_5_7.png - projection</span></div><div style='width: 45%; margin: 2.5%; float: left'><img src='1_bays29_1000/2_images/bays29_5_7.png' /><span>bays29_5_7.png - LON</span></div><div style='width: 45%; margin: 2.5%; float: left'><img src='1_bays29_1000/6_projection_images/bays29_5_8.png' /><span>bays29_5_8.png - projection</span></div><div style='width: 45%; margin: 2.5%; float: left'><img src='1_bays29_1000/2_images/bays29_5_8.png' /><span>bays29_5_8.png - LON</span></div><div style='width: 45%; margin: 2.5%; float: left'><img src='1_bays29_1000/6_projection_images/bays29_5_9.png' /><span>bays29_5_9.png - projection</span></div><div style='width: 45%; margin: 2.5%; float: left'><img src='1_bays29_1000/2_images/bays29_5_9.png' /><span>bays29_5_9.png - LON</span></div>"
      ],
      "text/plain": [
       "<IPython.core.display.HTML object>"
      ]
     },
     "metadata": {},
     "output_type": "display_data"
    }
   ],
   "source": [
    "print_images_and_projections(test_folder + \"/2_images\", test_folder + \"/6_projection_images\")"
   ]
  },
  {
   "cell_type": "code",
   "execution_count": null,
   "metadata": {},
   "outputs": [],
   "source": []
  }
 ],
 "metadata": {
  "kernelspec": {
   "display_name": "Python 3",
   "language": "python",
   "name": "python3"
  },
  "language_info": {
   "codemirror_mode": {
    "name": "ipython",
    "version": 3
   },
   "file_extension": ".py",
   "mimetype": "text/x-python",
   "name": "python",
   "nbconvert_exporter": "python",
   "pygments_lexer": "ipython3",
   "version": "3.6.5"
  }
 },
 "nbformat": 4,
 "nbformat_minor": 2
}
