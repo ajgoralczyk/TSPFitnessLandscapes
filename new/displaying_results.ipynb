{
 "cells": [
  {
   "cell_type": "code",
   "execution_count": 11,
   "metadata": {},
   "outputs": [],
   "source": [
    "from main import *\n",
    "from notebook import *"
   ]
  },
  {
   "cell_type": "markdown",
   "metadata": {},
   "source": [
    "Sub-instances & LON generation\n",
    "\n",
    "\n",
    "- problem: bays29\n",
    "- 28 sub-instances (9 without 1 vertex, 9 without 2, 10 without 5)\n",
    "- 1000  Chained-LK runs\n",
    "- kick strength = 1\n",
    "- termination criterion = 1 000 consecutive non-improving iterations (later 10 000 will be used)\n"
   ]
  },
  {
   "cell_type": "code",
   "execution_count": 12,
   "metadata": {},
   "outputs": [],
   "source": [
    "data_file = \"bays29.tsp\"\n",
    "data_folder = \"data_bays29\"\n",
    "test_folder = \"2_bays29_10000\"\n",
    "kick_strength = 1"
   ]
  },
  {
   "cell_type": "code",
   "execution_count": 13,
   "metadata": {},
   "outputs": [],
   "source": [
    "# main_part1__TSP_problems(data_file, data_folder)"
   ]
  },
  {
   "cell_type": "code",
   "execution_count": 14,
   "metadata": {},
   "outputs": [],
   "source": [
    "# done independently on different computers\n",
    "# main_part2__LONs(data_folder, test_folder + \"/1_lons\", test_folder + \"/3_performance_metrics\", kick_strength)"
   ]
  },
  {
   "cell_type": "markdown",
   "metadata": {},
   "source": [
    "LON image generation\n",
    "\n",
    "\n",
    "- nodes & edges selection ..."
   ]
  },
  {
   "cell_type": "code",
   "execution_count": 15,
   "metadata": {
    "scrolled": false
   },
   "outputs": [
    {
     "data": {
      "text/html": [
       "<div style='width: 30%; margin: 1.5%; float: left'><img src='2_bays29_10000/2_images/bays29.png' /><span>bays29.png</span></div><div style='width: 30%; margin: 1.5%; float: left'><img src='2_bays29_10000/2_images/bays29_1_0.png' /><span>bays29_1_0.png</span></div><div style='width: 30%; margin: 1.5%; float: left'><img src='2_bays29_10000/2_images/bays29_1_1.png' /><span>bays29_1_1.png</span></div><div style='width: 30%; margin: 1.5%; float: left'><img src='2_bays29_10000/2_images/bays29_1_2.png' /><span>bays29_1_2.png</span></div><div style='width: 30%; margin: 1.5%; float: left'><img src='2_bays29_10000/2_images/bays29_1_3.png' /><span>bays29_1_3.png</span></div><div style='width: 30%; margin: 1.5%; float: left'><img src='2_bays29_10000/2_images/bays29_1_4.png' /><span>bays29_1_4.png</span></div><div style='width: 30%; margin: 1.5%; float: left'><img src='2_bays29_10000/2_images/bays29_1_5.png' /><span>bays29_1_5.png</span></div><div style='width: 30%; margin: 1.5%; float: left'><img src='2_bays29_10000/2_images/bays29_1_6.png' /><span>bays29_1_6.png</span></div><div style='width: 30%; margin: 1.5%; float: left'><img src='2_bays29_10000/2_images/bays29_1_7.png' /><span>bays29_1_7.png</span></div><div style='width: 30%; margin: 1.5%; float: left'><img src='2_bays29_10000/2_images/bays29_1_8.png' /><span>bays29_1_8.png</span></div><div style='width: 30%; margin: 1.5%; float: left'><img src='2_bays29_10000/2_images/bays29_2_0.png' /><span>bays29_2_0.png</span></div><div style='width: 30%; margin: 1.5%; float: left'><img src='2_bays29_10000/2_images/bays29_2_3.png' /><span>bays29_2_3.png</span></div><div style='width: 30%; margin: 1.5%; float: left'><img src='2_bays29_10000/2_images/bays29_2_6.png' /><span>bays29_2_6.png</span></div><div style='width: 30%; margin: 1.5%; float: left'><img src='2_bays29_10000/2_images/bays29_2_7.png' /><span>bays29_2_7.png</span></div><div style='width: 30%; margin: 1.5%; float: left'><img src='2_bays29_10000/2_images/bays29_5_3.png' /><span>bays29_5_3.png</span></div><div style='width: 30%; margin: 1.5%; float: left'><img src='2_bays29_10000/2_images/bays29_5_6.png' /><span>bays29_5_6.png</span></div>"
      ],
      "text/plain": [
       "<IPython.core.display.HTML object>"
      ]
     },
     "metadata": {},
     "output_type": "display_data"
    }
   ],
   "source": [
    "#main_part3__images(test_folder + \"/1_lons\", test_folder + \"/2_images\")\n",
    "print_images(test_folder + \"/2_images\")"
   ]
  },
  {
   "cell_type": "markdown",
   "metadata": {},
   "source": [
    "Network & performance metrics\n",
    "\n",
    "\n",
    "- success rate\n",
    "- mean number of iterations to success\n",
    "- number of nodes in LON\n",
    "- number of sinks in LON\n",
    "- relative in-strength of the globally optimal sink\n",
    "- proportion of nodes in the globally optimal funnels\n",
    "- proportion of nodes with unique path length"
   ]
  },
  {
   "cell_type": "code",
   "execution_count": 17,
   "metadata": {},
   "outputs": [
    {
     "name": "stdout",
     "output_type": "stream",
     "text": [
      "Success rate [0.072, 0.189, 0.095, 0.261, 0.048, 0.144, 0.072, 0.036, 0.132, 0.144, 0.108, 0.072, 0.082, 0.083, 0.338, 0.241]\n",
      "Iterations to success ['5578.50', '3407.85', '3532.71', '5048.97', '5132.50', '5130.17', '3950.67', '2531.67', '4930.91', '5130.17', '4966.78', '3938.17', '3153.87', '4802.47', '2860.45', '2314.95']\n",
      "Number of nodes [1415, 1306, 1364, 1347, 1381, 1465, 1342, 1312, 1324, 1465, 1332, 1355, 1351, 1391, 1705, 1723]\n",
      "Number of sinks [57, 45, 44, 28, 57, 47, 51, 46, 37, 47, 38, 50, 38, 47, 24, 41]\n",
      "Relative in-strength ['0.11', '0.28', '0.17', '0.33', '0.09', '0.11', '0.17', '0.06', '0.14', '0.11', '0.16', '0.11', '0.11', '0.15', '0.44', '0.21']\n",
      "Proportion of nodes in optimal funnels ['0.15', '0.47', '0.34', '0.71', '0.25', '0.25', '0.22', '0.20', '0.40', '0.25', '0.43', '0.25', '0.23', '0.23', '0.85', '0.55']\n",
      "Proportion of nodes with unique path length ['0.60', '0.65', '0.60', '0.60', '0.60', '0.59', '0.60', '0.63', '0.61', '0.59', '0.61', '0.62', '0.61', '0.60', '0.61', '0.56']\n"
     ]
    }
   ],
   "source": [
    "main_part4__metrics(test_folder + \"/1_lons\", test_folder + \"/3_performance_metrics\", test_folder + \"/4_network_metrics\")\n",
    "print_metrics(test_folder + \"/3_performance_metrics\", test_folder + \"/4_network_metrics\")"
   ]
  },
  {
   "cell_type": "markdown",
   "metadata": {},
   "source": [
    "LON projection images\n",
    "\n",
    "\n",
    "- with and without: loops and 'upstream edges' (edges from original graphs that in projection point from node representing shorter to longer path)\n",
    "- ..."
   ]
  },
  {
   "cell_type": "code",
   "execution_count": 20,
   "metadata": {
    "scrolled": false
   },
   "outputs": [
    {
     "name": "stdout",
     "output_type": "stream",
     "text": [
      "loops 15 upstream edges 190\n",
      "loops 1 upstream edges 55\n",
      "loops 0 upstream edges 59\n",
      "loops 2 upstream edges 50\n",
      "loops 6 upstream edges 140\n",
      "loops 2 upstream edges 50\n",
      "loops 17 upstream edges 114\n",
      "loops 3 upstream edges 37\n",
      "loops 6 upstream edges 140\n",
      "loops 4 upstream edges 80\n",
      "loops 19 upstream edges 161\n",
      "loops 18 upstream edges 157\n",
      "loops 7 upstream edges 89\n",
      "loops 37 upstream edges 310\n",
      "loops 26 upstream edges 256\n"
     ]
    }
   ],
   "source": [
    "main_part5__projections(test_folder + \"/1_lons\", test_folder + \"/5_projections\")"
   ]
  },
  {
   "cell_type": "code",
   "execution_count": null,
   "metadata": {
    "scrolled": false
   },
   "outputs": [
    {
     "name": "stdout",
     "output_type": "stream",
     "text": [
      "IGRAPH D--- 403 381 -- \n",
      "image  2_bays29_10000/2_images/bays29_1_0\n",
      "IGRAPH D--- 401 274 -- \n",
      "image  2_bays29_10000/6_projection_images/bays29_1_0\n",
      "IGRAPH D--- 401 381 -- \n",
      "image  2_bays29_10000/2_images/bays29_1_1\n",
      "IGRAPH D--- 401 344 -- \n",
      "image  2_bays29_10000/6_projection_images/bays29_1_1\n",
      "IGRAPH D--- 407 402 -- \n",
      "image  2_bays29_10000/2_images/bays29_1_2\n",
      "IGRAPH D--- 402 323 -- \n",
      "image  2_bays29_10000/6_projection_images/bays29_1_2\n",
      "IGRAPH D--- 403 361 -- \n",
      "image  2_bays29_10000/2_images/bays29_1_3\n",
      "IGRAPH D--- 403 340 -- \n",
      "image  2_bays29_10000/6_projection_images/bays29_1_3\n",
      "IGRAPH D--- 402 370 -- \n",
      "image  2_bays29_10000/2_images/bays29_1_4\n",
      "IGRAPH D--- 401 306 -- \n",
      "image  2_bays29_10000/6_projection_images/bays29_1_4\n",
      "IGRAPH D--- 405 363 -- \n",
      "image  2_bays29_10000/2_images/bays29_1_5\n",
      "IGRAPH D--- 403 340 -- \n",
      "image  2_bays29_10000/6_projection_images/bays29_1_5\n",
      "IGRAPH D--- 402 371 -- \n",
      "image  2_bays29_10000/2_images/bays29_1_6\n",
      "IGRAPH D--- 402 317 -- \n",
      "image  2_bays29_10000/6_projection_images/bays29_1_6\n",
      "IGRAPH D--- 402 394 -- \n",
      "image  2_bays29_10000/2_images/bays29_1_7\n",
      "IGRAPH D--- 404 361 -- \n",
      "image  2_bays29_10000/6_projection_images/bays29_1_7\n",
      "IGRAPH D--- 402 370 -- \n"
     ]
    }
   ],
   "source": [
    "main_part6__projection_images(test_folder + \"/5_projections\", test_folder + \"/1_lons\", test_folder + \"/2_images\", test_folder + \"/6_projection_images\")\n",
    "print_images(test_folder + \"/6_projection_images\")"
   ]
  },
  {
   "cell_type": "markdown",
   "metadata": {},
   "source": [
    "LON projection metrics\n",
    "\n",
    "\n",
    "- ..."
   ]
  },
  {
   "cell_type": "code",
   "execution_count": 8,
   "metadata": {},
   "outputs": [],
   "source": [
    "# main_part7__projection_metrics(test_folder + \"/5_projections\", test_folder + \"/7_projection_metrics\")\n",
    "# print_projection_metrics(test_folder + \"/7_projection_metrics\")"
   ]
  },
  {
   "cell_type": "markdown",
   "metadata": {},
   "source": [
    "LON for sub-instance vs. LON projection \n",
    "\n",
    "\n",
    "- ..."
   ]
  },
  {
   "cell_type": "code",
   "execution_count": 19,
   "metadata": {
    "scrolled": false
   },
   "outputs": [
    {
     "data": {
      "text/html": [
       "<div style='width: 45%; margin: 2.5%; float: left'><img src='2_bays29_10000/6_projection_images/bays29.png' /><span>bays29.png - projection</span></div><div style='width: 45%; margin: 2.5%; float: left'><img src='2_bays29_10000/2_images/bays29.png' /><span>bays29.png - LON</span></div><div style='width: 45%; margin: 2.5%; float: left'><img src='2_bays29_10000/6_projection_images/bays29_1_0.png' /><span>bays29_1_0.png - projection</span></div><div style='width: 45%; margin: 2.5%; float: left'><img src='2_bays29_10000/2_images/bays29_1_0.png' /><span>bays29_1_0.png - LON</span></div><div style='width: 45%; margin: 2.5%; float: left'><img src='2_bays29_10000/6_projection_images/bays29_1_1.png' /><span>bays29_1_1.png - projection</span></div><div style='width: 45%; margin: 2.5%; float: left'><img src='2_bays29_10000/2_images/bays29_1_1.png' /><span>bays29_1_1.png - LON</span></div><div style='width: 45%; margin: 2.5%; float: left'><img src='2_bays29_10000/6_projection_images/bays29_1_2.png' /><span>bays29_1_2.png - projection</span></div><div style='width: 45%; margin: 2.5%; float: left'><img src='2_bays29_10000/2_images/bays29_1_2.png' /><span>bays29_1_2.png - LON</span></div><div style='width: 45%; margin: 2.5%; float: left'><img src='2_bays29_10000/6_projection_images/bays29_1_3.png' /><span>bays29_1_3.png - projection</span></div><div style='width: 45%; margin: 2.5%; float: left'><img src='2_bays29_10000/2_images/bays29_1_3.png' /><span>bays29_1_3.png - LON</span></div><div style='width: 45%; margin: 2.5%; float: left'><img src='2_bays29_10000/6_projection_images/bays29_1_4.png' /><span>bays29_1_4.png - projection</span></div><div style='width: 45%; margin: 2.5%; float: left'><img src='2_bays29_10000/2_images/bays29_1_4.png' /><span>bays29_1_4.png - LON</span></div><div style='width: 45%; margin: 2.5%; float: left'><img src='2_bays29_10000/6_projection_images/bays29_1_5.png' /><span>bays29_1_5.png - projection</span></div><div style='width: 45%; margin: 2.5%; float: left'><img src='2_bays29_10000/2_images/bays29_1_5.png' /><span>bays29_1_5.png - LON</span></div><div style='width: 45%; margin: 2.5%; float: left'><img src='2_bays29_10000/6_projection_images/bays29_1_6.png' /><span>bays29_1_6.png - projection</span></div><div style='width: 45%; margin: 2.5%; float: left'><img src='2_bays29_10000/2_images/bays29_1_6.png' /><span>bays29_1_6.png - LON</span></div><div style='width: 45%; margin: 2.5%; float: left'><img src='2_bays29_10000/6_projection_images/bays29_1_7.png' /><span>bays29_1_7.png - projection</span></div><div style='width: 45%; margin: 2.5%; float: left'><img src='2_bays29_10000/2_images/bays29_1_7.png' /><span>bays29_1_7.png - LON</span></div><div style='width: 45%; margin: 2.5%; float: left'><img src='2_bays29_10000/6_projection_images/bays29_1_8.png' /><span>bays29_1_8.png - projection</span></div><div style='width: 45%; margin: 2.5%; float: left'><img src='2_bays29_10000/2_images/bays29_1_8.png' /><span>bays29_1_8.png - LON</span></div><div style='width: 45%; margin: 2.5%; float: left'><img src='2_bays29_10000/6_projection_images/bays29_2_0.png' /><span>bays29_2_0.png - projection</span></div><div style='width: 45%; margin: 2.5%; float: left'><img src='2_bays29_10000/2_images/bays29_2_0.png' /><span>bays29_2_0.png - LON</span></div><div style='width: 45%; margin: 2.5%; float: left'><img src='2_bays29_10000/6_projection_images/bays29_2_3.png' /><span>bays29_2_3.png - projection</span></div><div style='width: 45%; margin: 2.5%; float: left'><img src='2_bays29_10000/2_images/bays29_2_3.png' /><span>bays29_2_3.png - LON</span></div><div style='width: 45%; margin: 2.5%; float: left'><img src='2_bays29_10000/6_projection_images/bays29_2_6.png' /><span>bays29_2_6.png - projection</span></div><div style='width: 45%; margin: 2.5%; float: left'><img src='2_bays29_10000/2_images/bays29_2_6.png' /><span>bays29_2_6.png - LON</span></div><div style='width: 45%; margin: 2.5%; float: left'><img src='2_bays29_10000/6_projection_images/bays29_2_7.png' /><span>bays29_2_7.png - projection</span></div><div style='width: 45%; margin: 2.5%; float: left'><img src='2_bays29_10000/2_images/bays29_2_7.png' /><span>bays29_2_7.png - LON</span></div><div style='width: 45%; margin: 2.5%; float: left'><img src='2_bays29_10000/6_projection_images/bays29_5_3.png' /><span>bays29_5_3.png - projection</span></div><div style='width: 45%; margin: 2.5%; float: left'><img src='2_bays29_10000/2_images/bays29_5_3.png' /><span>bays29_5_3.png - LON</span></div><div style='width: 45%; margin: 2.5%; float: left'><img src='2_bays29_10000/6_projection_images/bays29_5_6.png' /><span>bays29_5_6.png - projection</span></div><div style='width: 45%; margin: 2.5%; float: left'><img src='2_bays29_10000/2_images/bays29_5_6.png' /><span>bays29_5_6.png - LON</span></div>"
      ],
      "text/plain": [
       "<IPython.core.display.HTML object>"
      ]
     },
     "metadata": {},
     "output_type": "display_data"
    }
   ],
   "source": [
    "print_images_and_projections(test_folder + \"/2_images\", test_folder + \"/6_projection_images\")"
   ]
  },
  {
   "cell_type": "code",
   "execution_count": null,
   "metadata": {},
   "outputs": [],
   "source": []
  }
 ],
 "metadata": {
  "kernelspec": {
   "display_name": "Python 3",
   "language": "python",
   "name": "python3"
  },
  "language_info": {
   "codemirror_mode": {
    "name": "ipython",
    "version": 3
   },
   "file_extension": ".py",
   "mimetype": "text/x-python",
   "name": "python",
   "nbconvert_exporter": "python",
   "pygments_lexer": "ipython3",
   "version": "3.6.5"
  }
 },
 "nbformat": 4,
 "nbformat_minor": 2
}
