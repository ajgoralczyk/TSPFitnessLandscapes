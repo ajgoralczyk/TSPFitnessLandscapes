{
 "cells": [
  {
   "cell_type": "code",
   "execution_count": 1,
   "metadata": {},
   "outputs": [],
   "source": [
    "from main import *\n",
    "from notebook import *"
   ]
  },
  {
   "cell_type": "markdown",
   "metadata": {},
   "source": [
    "Sub-instances & LON generation\n",
    "\n",
    "\n",
    "- problem: bays29\n",
    "- 28 sub-instances (9 without 1 vertex, 9 without 2, 10 without 5)\n",
    "- 1000  Chained-LK runs\n",
    "- kick strength = 1\n",
    "- termination criterion = 1 000 consecutive non-improving iterations (later 10 000 will be used)\n"
   ]
  },
  {
   "cell_type": "code",
   "execution_count": 2,
   "metadata": {},
   "outputs": [],
   "source": [
    "# data_file = \"bays29.tsp\"\n",
    "# data_folder = \"data_bays29\"\n",
    "test_folder = \"checking2\"\n",
    "kick_strength = 1"
   ]
  },
  {
   "cell_type": "code",
   "execution_count": 3,
   "metadata": {},
   "outputs": [],
   "source": [
    "# main_part1__TSP_problems(data_file, data_folder)"
   ]
  },
  {
   "cell_type": "code",
   "execution_count": 4,
   "metadata": {},
   "outputs": [],
   "source": [
    "# done independently on different computers\n",
    "# main_part2__LONs(data_folder, test_folder + \"/1_lons\", test_folder + \"/3_performance_metrics\", kick_strength)"
   ]
  },
  {
   "cell_type": "markdown",
   "metadata": {},
   "source": [
    "LON image generation\n",
    "\n",
    "\n",
    "- nodes & edges selection ..."
   ]
  },
  {
   "cell_type": "code",
   "execution_count": 3,
   "metadata": {
    "scrolled": false
   },
   "outputs": [
    {
     "ename": "TypeError",
     "evalue": "main_part3__images() missing 1 required positional argument: 'images_foldername'",
     "output_type": "error",
     "traceback": [
      "\u001b[1;31m---------------------------------------------------------------------------\u001b[0m",
      "\u001b[1;31mTypeError\u001b[0m                                 Traceback (most recent call last)",
      "\u001b[1;32m<ipython-input-3-894e509b2efb>\u001b[0m in \u001b[0;36m<module>\u001b[1;34m()\u001b[0m\n\u001b[1;32m----> 1\u001b[1;33m \u001b[0mmain_part3__images\u001b[0m\u001b[1;33m(\u001b[0m\u001b[0mtest_folder\u001b[0m \u001b[1;33m+\u001b[0m \u001b[1;34m\"/1_lons\"\u001b[0m\u001b[1;33m,\u001b[0m \u001b[0mtest_folder\u001b[0m \u001b[1;33m+\u001b[0m \u001b[1;34m\"/2_images\"\u001b[0m\u001b[1;33m)\u001b[0m\u001b[1;33m\u001b[0m\u001b[0m\n\u001b[0m\u001b[0;32m      2\u001b[0m \u001b[0mprint_images\u001b[0m\u001b[1;33m(\u001b[0m\u001b[0mtest_folder\u001b[0m \u001b[1;33m+\u001b[0m \u001b[1;34m\"/2_images\"\u001b[0m\u001b[1;33m)\u001b[0m\u001b[1;33m\u001b[0m\u001b[0m\n",
      "\u001b[1;31mTypeError\u001b[0m: main_part3__images() missing 1 required positional argument: 'images_foldername'"
     ]
    }
   ],
   "source": [
    "main_part3__images(\"\", test_folder + \"/1_lons\", test_folder + \"/2_images\")\n",
    "print_images(test_folder + \"/2_images\")"
   ]
  },
  {
   "cell_type": "markdown",
   "metadata": {},
   "source": [
    "Network & performance metrics\n",
    "\n",
    "\n",
    "- success rate\n",
    "- mean number of iterations to success\n",
    "- number of nodes in LON\n",
    "- number of sinks in LON\n",
    "- relative in-strength of the globally optimal sink\n",
    "- proportion of nodes in the globally optimal funnels\n",
    "- proportion of nodes with unique path length"
   ]
  },
  {
   "cell_type": "code",
   "execution_count": 5,
   "metadata": {},
   "outputs": [
    {
     "name": "stdout",
     "output_type": "stream",
     "text": [
      "Success rate [0.1, 0.1, 0.1, 0.1, 0.1, 0.1, 0.1, 0.1, 0.1, 0.1, 0.1, 0.1, 0.099, 0.1, 0.1, 0.1, 0.1, 0.1, 0.1, 0.1, 0.1, 0.1, 0.1, 0.1, 0.1, 0.1, 0.1, 0.1, 0.1]\n",
      "Iterations to success ['13.51', '9.19', '15.21', '1.52', '10.94', '10.03', '10.92', '1.44', '13.17', '10.00', '12.84', '2.07', '17.21', '4.33', '5.07', '8.93', '3.39', '12.98', '13.95', '8.18', '5.52', '9.42', '0.59', '0.91', '1.23', '1.80', '1.49', '8.48', '4.80']\n",
      "Number of nodes [21, 12, 31, 19, 11, 13, 12, 12, 22, 18, 22, 18, 12, 8, 18, 7, 20, 12, 17, 11, 15, 18, 4, 7, 6, 10, 10, 7, 21]\n",
      "Number of edges [47, 22, 67, 33, 19, 24, 19, 22, 46, 34, 62, 27, 23, 15, 44, 13, 45, 22, 33, 19, 34, 46, 3, 8, 8, 10, 15, 11, 49]\n",
      "Number of sinks [1, 1, 1, 3, 1, 1, 1, 1, 1, 1, 1, 2, 1, 1, 2, 1, 1, 1, 1, 1, 1, 1, 1, 1, 1, 2, 2, 1, 1]\n",
      "Relative in-strength ['1.00', '1.00', '1.00', '1.00', '1.00', '1.00', '1.00', '1.00', '1.00', '1.00', '1.00', '1.00', '1.00', '1.00', '1.00', '1.00', '1.00', '1.00', '1.00', '1.00', '1.00', '1.00', '1.00', '1.00', '1.00', '1.00', '1.00', '1.00', '1.00']\n",
      "Proportion of nodes in optimal funnels ['1.00', '1.00', '1.00', '1.00', '1.00', '1.00', '1.00', '1.00', '1.00', '1.00', '1.00', '1.00', '1.00', '1.00', '1.00', '1.00', '1.00', '1.00', '1.00', '1.00', '1.00', '1.00', '1.00', '1.00', '1.00', '1.00', '1.00', '1.00', '1.00']\n",
      "Proportion of nodes with unique path length ['1.00', '1.00', '1.00', '1.00', '1.00', '1.00', '1.00', '1.00', '1.00', '1.00', '1.00', '1.00', '1.00', '1.00', '1.00', '1.00', '1.00', '1.00', '1.00', '1.00', '1.00', '1.00', '1.00', '1.00', '1.00', '1.00', '1.00', '1.00', '1.00']\n"
     ]
    }
   ],
   "source": [
    "main_part4__metrics(\"best\", test_folder + \"/1_lons\", test_folder + \"/3_performance_metrics\", test_folder + \"/4_network_metrics\")\n",
    "print_metrics(test_folder + \"/3_performance_metrics\", test_folder + \"/4_network_metrics\")"
   ]
  },
  {
   "cell_type": "markdown",
   "metadata": {},
   "source": [
    "LON projection images\n",
    "\n",
    "\n",
    "- with and without: loops and 'upstream edges' (edges from original graphs that in projection point from node representing shorter to longer path)\n",
    "- ..."
   ]
  },
  {
   "cell_type": "code",
   "execution_count": 7,
   "metadata": {
    "scrolled": false
   },
   "outputs": [
    {
     "name": "stdout",
     "output_type": "stream",
     "text": [
      "loops 14 upstream edges 196\n",
      "loops 1 upstream edges 45\n",
      "loops 0 upstream edges 62\n",
      "loops 1 upstream edges 57\n",
      "loops 11 upstream edges 147\n",
      "loops 1 upstream edges 57\n",
      "loops 13 upstream edges 119\n",
      "loops 2 upstream edges 29\n",
      "loops 11 upstream edges 147\n",
      "loops 13 upstream edges 92\n",
      "loops 13 upstream edges 186\n",
      "loops 13 upstream edges 161\n",
      "loops 6 upstream edges 95\n",
      "loops 35 upstream edges 327\n",
      "loops 19 upstream edges 282\n"
     ]
    }
   ],
   "source": [
    "main_part5__projections(test_folder + \"/1_lons\", test_folder + \"/5_projections\")"
   ]
  },
  {
   "cell_type": "code",
   "execution_count": 6,
   "metadata": {
    "scrolled": false
   },
   "outputs": [
    {
     "data": {
      "text/html": [],
      "text/plain": [
       "<IPython.core.display.HTML object>"
      ]
     },
     "metadata": {},
     "output_type": "display_data"
    }
   ],
   "source": [
    "main_part6__projection_images(test_folder + \"/5_projections\", test_folder + \"/1_lons\", test_folder + \"/2_images\", test_folder + \"/6_projection_images\")\n",
    "print_images(test_folder + \"/6_projection_images\")"
   ]
  },
  {
   "cell_type": "markdown",
   "metadata": {},
   "source": [
    "LON projection metrics\n",
    "\n",
    "\n",
    "- ..."
   ]
  },
  {
   "cell_type": "code",
   "execution_count": 9,
   "metadata": {},
   "outputs": [],
   "source": [
    "# main_part7__projection_metrics(test_folder + \"/5_projections\", test_folder + \"/7_projection_metrics\")\n",
    "# print_projection_metrics(test_folder + \"/7_projection_metrics\")"
   ]
  },
  {
   "cell_type": "markdown",
   "metadata": {},
   "source": [
    "LON for sub-instance vs. LON projection \n",
    "\n",
    "\n",
    "- ..."
   ]
  },
  {
   "cell_type": "code",
   "execution_count": 10,
   "metadata": {
    "scrolled": false
   },
   "outputs": [
    {
     "data": {
      "text/html": [
       "<div style='width: 45%; margin: 2.5%; float: left'><img src='3_bays29_100000/6_projection_images/bays29.png' /><span>bays29.png - projection</span></div><div style='width: 45%; margin: 2.5%; float: left'><img src='3_bays29_100000/2_images/bays29.png' /><span>bays29.png - LON</span></div><div style='width: 45%; margin: 2.5%; float: left'><img src='3_bays29_100000/6_projection_images/bays29_1_0.png' /><span>bays29_1_0.png - projection</span></div><div style='width: 45%; margin: 2.5%; float: left'><img src='3_bays29_100000/2_images/bays29_1_0.png' /><span>bays29_1_0.png - LON</span></div><div style='width: 45%; margin: 2.5%; float: left'><img src='3_bays29_100000/6_projection_images/bays29_1_1.png' /><span>bays29_1_1.png - projection</span></div><div style='width: 45%; margin: 2.5%; float: left'><img src='3_bays29_100000/2_images/bays29_1_1.png' /><span>bays29_1_1.png - LON</span></div><div style='width: 45%; margin: 2.5%; float: left'><img src='3_bays29_100000/6_projection_images/bays29_1_2.png' /><span>bays29_1_2.png - projection</span></div><div style='width: 45%; margin: 2.5%; float: left'><img src='3_bays29_100000/2_images/bays29_1_2.png' /><span>bays29_1_2.png - LON</span></div><div style='width: 45%; margin: 2.5%; float: left'><img src='3_bays29_100000/6_projection_images/bays29_1_3.png' /><span>bays29_1_3.png - projection</span></div><div style='width: 45%; margin: 2.5%; float: left'><img src='3_bays29_100000/2_images/bays29_1_3.png' /><span>bays29_1_3.png - LON</span></div><div style='width: 45%; margin: 2.5%; float: left'><img src='3_bays29_100000/6_projection_images/bays29_1_4.png' /><span>bays29_1_4.png - projection</span></div><div style='width: 45%; margin: 2.5%; float: left'><img src='3_bays29_100000/2_images/bays29_1_4.png' /><span>bays29_1_4.png - LON</span></div><div style='width: 45%; margin: 2.5%; float: left'><img src='3_bays29_100000/6_projection_images/bays29_1_5.png' /><span>bays29_1_5.png - projection</span></div><div style='width: 45%; margin: 2.5%; float: left'><img src='3_bays29_100000/2_images/bays29_1_5.png' /><span>bays29_1_5.png - LON</span></div><div style='width: 45%; margin: 2.5%; float: left'><img src='3_bays29_100000/6_projection_images/bays29_1_6.png' /><span>bays29_1_6.png - projection</span></div><div style='width: 45%; margin: 2.5%; float: left'><img src='3_bays29_100000/2_images/bays29_1_6.png' /><span>bays29_1_6.png - LON</span></div><div style='width: 45%; margin: 2.5%; float: left'><img src='3_bays29_100000/6_projection_images/bays29_1_7.png' /><span>bays29_1_7.png - projection</span></div><div style='width: 45%; margin: 2.5%; float: left'><img src='3_bays29_100000/2_images/bays29_1_7.png' /><span>bays29_1_7.png - LON</span></div><div style='width: 45%; margin: 2.5%; float: left'><img src='3_bays29_100000/6_projection_images/bays29_1_8.png' /><span>bays29_1_8.png - projection</span></div><div style='width: 45%; margin: 2.5%; float: left'><img src='3_bays29_100000/2_images/bays29_1_8.png' /><span>bays29_1_8.png - LON</span></div><div style='width: 45%; margin: 2.5%; float: left'><img src='3_bays29_100000/6_projection_images/bays29_2_0.png' /><span>bays29_2_0.png - projection</span></div><div style='width: 45%; margin: 2.5%; float: left'><img src='3_bays29_100000/2_images/bays29_2_0.png' /><span>bays29_2_0.png - LON</span></div><div style='width: 45%; margin: 2.5%; float: left'><img src='3_bays29_100000/6_projection_images/bays29_2_3.png' /><span>bays29_2_3.png - projection</span></div><div style='width: 45%; margin: 2.5%; float: left'><img src='3_bays29_100000/2_images/bays29_2_3.png' /><span>bays29_2_3.png - LON</span></div><div style='width: 45%; margin: 2.5%; float: left'><img src='3_bays29_100000/6_projection_images/bays29_2_6.png' /><span>bays29_2_6.png - projection</span></div><div style='width: 45%; margin: 2.5%; float: left'><img src='3_bays29_100000/2_images/bays29_2_6.png' /><span>bays29_2_6.png - LON</span></div><div style='width: 45%; margin: 2.5%; float: left'><img src='3_bays29_100000/6_projection_images/bays29_2_7.png' /><span>bays29_2_7.png - projection</span></div><div style='width: 45%; margin: 2.5%; float: left'><img src='3_bays29_100000/2_images/bays29_2_7.png' /><span>bays29_2_7.png - LON</span></div><div style='width: 45%; margin: 2.5%; float: left'><img src='3_bays29_100000/6_projection_images/bays29_5_3.png' /><span>bays29_5_3.png - projection</span></div><div style='width: 45%; margin: 2.5%; float: left'><img src='3_bays29_100000/2_images/bays29_5_3.png' /><span>bays29_5_3.png - LON</span></div><div style='width: 45%; margin: 2.5%; float: left'><img src='3_bays29_100000/6_projection_images/bays29_5_6.png' /><span>bays29_5_6.png - projection</span></div><div style='width: 45%; margin: 2.5%; float: left'><img src='3_bays29_100000/2_images/bays29_5_6.png' /><span>bays29_5_6.png - LON</span></div>"
      ],
      "text/plain": [
       "<IPython.core.display.HTML object>"
      ]
     },
     "metadata": {},
     "output_type": "display_data"
    }
   ],
   "source": [
    "print_images_and_projections(test_folder + \"/2_images\", test_folder + \"/6_projection_images\")"
   ]
  },
  {
   "cell_type": "code",
   "execution_count": 4,
   "metadata": {},
   "outputs": [
    {
     "name": "stdout",
     "output_type": "stream",
     "text": [
      "Success rate [0.031, 0.016, 0.024, 0.047, 0.024, 0.056, 0.024, 0.008, 0.039, 0.056, 0.016, 0.039, 0.008, 0.056, 0.142, 0.024, 0.016, 0.048, 0.007, 0.162, 0.031, 0.04, 0.115, 0.039, 0.237, 0.11, 0.155, 0.016, 0.008]\n",
      "Iterations to success ['1771.29', '1200.00', '1532.00', '789.55', '2416.00', '1409.43', '2416.00', '679.00', '1434.08', '1409.43', '608.50', '1416.64', '1302.00', '1607.71', '1137.49', '1504.00', '1883.00', '965.50', '1156.00', '1018.33', '1098.26', '952.40', '1227.84', '2189.85', '1146.46', '1238.25', '1453.55', '1263.00', '684.00']\n",
      "Number of nodes [2011, 2017, 1919, 1931, 1913, 1925, 1913, 1899, 1913, 1925, 1835, 1854, 1833, 2004, 1958, 1836, 1926, 1881, 1854, 1734, 1763, 1761, 1698, 1736, 1794, 1698, 1687, 1811, 1778]\n",
      "Number of edges [1912, 1936, 1838, 1840, 1826, 1840, 1826, 1822, 1842, 1840, 1767, 1778, 1728, 1938, 1956, 1739, 1875, 1811, 1780, 1718, 1774, 1724, 1719, 1704, 1829, 1691, 1706, 1835, 1719]\n",
      "Number of sinks [107, 97, 95, 97, 101, 98, 101, 99, 83, 98, 86, 98, 109, 90, 44, 105, 78, 89, 85, 47, 47, 69, 39, 70, 36, 55, 42, 38, 77]\n",
      "Relative in-strength ['0.03', '0.01', '0.03', '0.05', '0.03', '0.03', '0.03', '0.00', '0.05', '0.03', '0.01', '0.04', '0.01', '0.03', '0.11', '0.03', '0.02', '0.04', '0.01', '0.14', '0.08', '0.05', '0.11', '0.03', '0.14', '0.09', '0.14', '0.03', '0.01']\n",
      "Proportion of nodes in optimal funnels ['0.05', '0.06', '0.11', '0.10', '0.12', '0.09', '0.12', '0.05', '0.19', '0.09', '0.15', '0.16', '0.01', '0.21', '0.60', '0.06', '0.07', '0.14', '0.01', '0.50', '0.67', '0.16', '0.63', '0.34', '0.52', '0.51', '0.62', '0.30', '0.01']\n",
      "Proportion of nodes with unique path length ['0.05', '0.06', '0.11', '0.10', '0.12', '0.09', '0.12', '0.05', '0.19', '0.09', '0.15', '0.16', '0.01', '0.21', '0.60', '0.06', '0.07', '0.14', '0.01', '0.50', '0.67', '0.16', '0.63', '0.34', '0.52', '0.51', '0.62', '0.30', '0.01']\n"
     ]
    }
   ],
   "source": [
    "test_folder_2 = \"4_bays29_1000\"\n",
    "main_part4__metrics(\"best\", test_folder_2 + \"/1_lons\", test_folder_2 + \"/3_performance_metrics\", test_folder_2 + \"/4_network_metrics\")\n",
    "print_metrics(test_folder_2 + \"/3_performance_metrics\", test_folder_2 + \"/4_network_metrics\")"
   ]
  },
  {
   "cell_type": "code",
   "execution_count": null,
   "metadata": {},
   "outputs": [],
   "source": []
  }
 ],
 "metadata": {
  "kernelspec": {
   "display_name": "Python 3",
   "language": "python",
   "name": "python3"
  },
  "language_info": {
   "codemirror_mode": {
    "name": "ipython",
    "version": 3
   },
   "file_extension": ".py",
   "mimetype": "text/x-python",
   "name": "python",
   "nbconvert_exporter": "python",
   "pygments_lexer": "ipython3",
   "version": "3.6.5"
  }
 },
 "nbformat": 4,
 "nbformat_minor": 2
}
