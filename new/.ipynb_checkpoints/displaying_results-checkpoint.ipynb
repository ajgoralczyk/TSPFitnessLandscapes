{
 "cells": [
  {
   "cell_type": "code",
   "execution_count": 1,
   "metadata": {},
   "outputs": [],
   "source": [
    "from main import *"
   ]
  },
  {
   "cell_type": "markdown",
   "metadata": {},
   "source": [
    "Sub-instances & LON generation\n",
    "\n",
    "\n",
    "- problem: bays29\n",
    "- 28 sub-instances (9 without 1 vertex, 9 without 2, 10 without 5)\n",
    "- 1000  Chained-LK runs\n",
    "- kick strength = 1\n",
    "- termination criterion = 1 000 consecutive non-improving iterations (later 10 000 will be used)\n"
   ]
  },
  {
   "cell_type": "code",
   "execution_count": 2,
   "metadata": {},
   "outputs": [],
   "source": [
    "data_file = \"bays29.tsp\"\n",
    "data_folder = \"data_bays29\"\n",
    "test_folder = \"1_bays29_1000\"\n",
    "kick_strength = 1"
   ]
  },
  {
   "cell_type": "code",
   "execution_count": 3,
   "metadata": {},
   "outputs": [],
   "source": [
    "# main_part1__TSP_problems(data_file, data_folder)"
   ]
  },
  {
   "cell_type": "code",
   "execution_count": 4,
   "metadata": {},
   "outputs": [],
   "source": [
    "# done independently on different computers\n",
    "# main_part2__LONs(data_folder, test_folder + \"/1_lons\", test_folder + \"/3_performance_metrics\", kick_strength)"
   ]
  },
  {
   "cell_type": "markdown",
   "metadata": {},
   "source": [
    "LON image generation\n",
    "\n",
    "\n",
    "- nodes & edges selection ..."
   ]
  },
  {
   "cell_type": "code",
   "execution_count": 5,
   "metadata": {
    "scrolled": false
   },
   "outputs": [
    {
     "data": {
      "text/html": [
       "<div style='width: 45%; margin: 2.5%; float: left'><img src='1_bays29_1000/2_images/bays29.png' /><span>bays29.png</span></div><div style='width: 45%; margin: 2.5%; float: left'><img src='1_bays29_1000/2_images/bays29_1_0.png' /><span>bays29_1_0.png</span></div><div style='width: 45%; margin: 2.5%; float: left'><img src='1_bays29_1000/2_images/bays29_1_1.png' /><span>bays29_1_1.png</span></div><div style='width: 45%; margin: 2.5%; float: left'><img src='1_bays29_1000/2_images/bays29_1_2.png' /><span>bays29_1_2.png</span></div><div style='width: 45%; margin: 2.5%; float: left'><img src='1_bays29_1000/2_images/bays29_1_3.png' /><span>bays29_1_3.png</span></div><div style='width: 45%; margin: 2.5%; float: left'><img src='1_bays29_1000/2_images/bays29_1_4.png' /><span>bays29_1_4.png</span></div><div style='width: 45%; margin: 2.5%; float: left'><img src='1_bays29_1000/2_images/bays29_1_5.png' /><span>bays29_1_5.png</span></div><div style='width: 45%; margin: 2.5%; float: left'><img src='1_bays29_1000/2_images/bays29_1_6.png' /><span>bays29_1_6.png</span></div><div style='width: 45%; margin: 2.5%; float: left'><img src='1_bays29_1000/2_images/bays29_1_7.png' /><span>bays29_1_7.png</span></div><div style='width: 45%; margin: 2.5%; float: left'><img src='1_bays29_1000/2_images/bays29_1_8.png' /><span>bays29_1_8.png</span></div><div style='width: 45%; margin: 2.5%; float: left'><img src='1_bays29_1000/2_images/bays29_2_0.png' /><span>bays29_2_0.png</span></div><div style='width: 45%; margin: 2.5%; float: left'><img src='1_bays29_1000/2_images/bays29_2_1.png' /><span>bays29_2_1.png</span></div><div style='width: 45%; margin: 2.5%; float: left'><img src='1_bays29_1000/2_images/bays29_2_2.png' /><span>bays29_2_2.png</span></div><div style='width: 45%; margin: 2.5%; float: left'><img src='1_bays29_1000/2_images/bays29_2_3.png' /><span>bays29_2_3.png</span></div><div style='width: 45%; margin: 2.5%; float: left'><img src='1_bays29_1000/2_images/bays29_2_4.png' /><span>bays29_2_4.png</span></div><div style='width: 45%; margin: 2.5%; float: left'><img src='1_bays29_1000/2_images/bays29_2_5.png' /><span>bays29_2_5.png</span></div><div style='width: 45%; margin: 2.5%; float: left'><img src='1_bays29_1000/2_images/bays29_2_6.png' /><span>bays29_2_6.png</span></div><div style='width: 45%; margin: 2.5%; float: left'><img src='1_bays29_1000/2_images/bays29_2_7.png' /><span>bays29_2_7.png</span></div><div style='width: 45%; margin: 2.5%; float: left'><img src='1_bays29_1000/2_images/bays29_2_8.png' /><span>bays29_2_8.png</span></div><div style='width: 45%; margin: 2.5%; float: left'><img src='1_bays29_1000/2_images/bays29_5_0.png' /><span>bays29_5_0.png</span></div><div style='width: 45%; margin: 2.5%; float: left'><img src='1_bays29_1000/2_images/bays29_5_1.png' /><span>bays29_5_1.png</span></div><div style='width: 45%; margin: 2.5%; float: left'><img src='1_bays29_1000/2_images/bays29_5_2.png' /><span>bays29_5_2.png</span></div><div style='width: 45%; margin: 2.5%; float: left'><img src='1_bays29_1000/2_images/bays29_5_3.png' /><span>bays29_5_3.png</span></div><div style='width: 45%; margin: 2.5%; float: left'><img src='1_bays29_1000/2_images/bays29_5_4.png' /><span>bays29_5_4.png</span></div><div style='width: 45%; margin: 2.5%; float: left'><img src='1_bays29_1000/2_images/bays29_5_5.png' /><span>bays29_5_5.png</span></div><div style='width: 45%; margin: 2.5%; float: left'><img src='1_bays29_1000/2_images/bays29_5_6.png' /><span>bays29_5_6.png</span></div><div style='width: 45%; margin: 2.5%; float: left'><img src='1_bays29_1000/2_images/bays29_5_7.png' /><span>bays29_5_7.png</span></div><div style='width: 45%; margin: 2.5%; float: left'><img src='1_bays29_1000/2_images/bays29_5_8.png' /><span>bays29_5_8.png</span></div><div style='width: 45%; margin: 2.5%; float: left'><img src='1_bays29_1000/2_images/bays29_5_9.png' /><span>bays29_5_9.png</span></div>"
      ],
      "text/plain": [
       "<IPython.core.display.HTML object>"
      ]
     },
     "metadata": {},
     "output_type": "display_data"
    }
   ],
   "source": [
    "# main_part3__images(test_folder + \"/1_lons\", test_folder + \"/2_images\")\n",
    "print_images(test_folder + \"/2_images\")"
   ]
  },
  {
   "cell_type": "markdown",
   "metadata": {},
   "source": [
    "Network & performance metrics\n",
    "\n",
    "\n",
    "- success rate\n",
    "- mean number of iterations to success\n",
    "- number of nodes in LON\n",
    "- number of sinks in LON\n",
    "- relative in-strength of the globally optimal sink\n",
    "- proportion of nodes in the globally optimal funnels\n",
    "- proportion of nodes with unique path length"
   ]
  },
  {
   "cell_type": "code",
   "execution_count": 5,
   "metadata": {},
   "outputs": [
    {
     "name": "stdout",
     "output_type": "stream",
     "text": [
      "Success rate [0.047, 0.023, 0.011, 0.024, 0.011, 0.048, 0.011, 0.024, 0.048, 0.048, 0.059, 0.071, 0.024, 0.024, 0.19, 0.011, 0.036, 0.035, 0.036, 0.178, 0.06, 0.023, 0.142, 0.036, 0.144, 0.203, 0.143, 0.084, 0.023]\n",
      "Iterations to success ['1387.66', '1873.26', '2567.00', '831.50', '2211.00', '761.75', '2211.00', '875.00', '1207.50', '761.75', '1783.56', '1441.20', '1176.00', '1452.00', '1792.21', '1488.00', '1848.00', '1479.06', '1071.00', '880.90', '1522.40', '1163.30', '1203.51', '1919.33', '1103.00', '1136.79', '1750.74', '1429.43', '1650.70']\n",
      "Number of nodes [1423, 1328, 1263, 1279, 1263, 1314, 1263, 1335, 1284, 1314, 1234, 1276, 1179, 1216, 1296, 1266, 1285, 1308, 1289, 1141, 1218, 1155, 1133, 1188, 1190, 1154, 1152, 1189, 1189]\n",
      "Number of sinks [74, 77, 79, 74, 82, 76, 82, 73, 71, 76, 67, 69, 75, 69, 33, 81, 72, 68, 73, 47, 46, 59, 40, 59, 35, 51, 37, 30, 59]\n",
      "Relative in-strength [0.043200680995956586, 0.033457249070631974, 0.022988505747126436, 0.03727714748784441, 0.022988505747126436, 0.049193476517244455, 0.022988505747126436, 0.03614457831325301, 0.03896103896103896, 0.049193476517244455, 0.06949168122070042, 0.1261013215859031, 0.04790419161676647, 0.04819277108433735, 0.12682345936290562, 0.023952095808383235, 0.016682935486733514, 0.04373974849644614, 0.0625, 0.19282956425813572, 0.07147979918718624, 0.033566841798015175, 0.21167238842569888, 0.049162807267545426, 0.23939601250977324, 0.29175946547884185, 0.22372881355932203, 0.14787115397231515, 0.05321507760532151]\n",
      "Nodes in optimal funnels [0, 0, 0, 0, 0, 0, 0, 0, 0, 0, 0, 0, 0, 0, 0, 0, 0, 0, 0, 0, 0, 0, 0, 0, 0, 0, 0, 0, 0]\n",
      "Nodes with unique path length [0, 0, 0, 0, 0, 0, 0, 0, 0, 0, 0, 0, 0, 0, 0, 0, 0, 0, 0, 0, 0, 0, 0, 0, 0, 0, 0, 0, 0]\n"
     ]
    }
   ],
   "source": [
    "main_part4__metrics(test_folder + \"/1_lons\", test_folder + \"/3_performance_metrics\", test_folder + \"/4_network_metrics\")\n",
    "print_metrics(test_folder + \"/3_performance_metrics\", test_folder + \"/4_network_metrics\")"
   ]
  },
  {
   "cell_type": "markdown",
   "metadata": {},
   "source": [
    "LON projection images\n",
    "\n",
    "\n",
    "- with and without: loops and 'upstream edges' (edges from original graphs that in projection point from node representing shorter to longer path)\n",
    "- ..."
   ]
  },
  {
   "cell_type": "code",
   "execution_count": null,
   "metadata": {},
   "outputs": [],
   "source": [
    "# main_part5__projections(test_folder + \"/1_lons\", test_folder + \"/5_projections\")\n",
    "# main_part6__projection_images(test_folder + \"/5_projections\", test_folder + \"/6_projection_images\")\n",
    "# print_images(test_folder + \"/6_projection_images\")"
   ]
  },
  {
   "cell_type": "markdown",
   "metadata": {},
   "source": [
    "LON projection metrics\n",
    "\n",
    "\n",
    "- ..."
   ]
  },
  {
   "cell_type": "code",
   "execution_count": null,
   "metadata": {},
   "outputs": [],
   "source": [
    "# main_part7__projection_metrics(test_folder + \"/5_projections\", test_folder + \"/7_projection_metrics\")\n",
    "# print_projection_metrics(test_folder + \"/7_projection_metrics\")"
   ]
  },
  {
   "cell_type": "markdown",
   "metadata": {},
   "source": [
    "LON for sub-instance vs. LON projection \n",
    "\n",
    "\n",
    "- ..."
   ]
  },
  {
   "cell_type": "code",
   "execution_count": null,
   "metadata": {},
   "outputs": [],
   "source": [
    "print_images_and_projections(test_folder + \"/2_images\", test_folder + \"/6_projection_images\")"
   ]
  }
 ],
 "metadata": {
  "kernelspec": {
   "display_name": "Python 3",
   "language": "python",
   "name": "python3"
  },
  "language_info": {
   "codemirror_mode": {
    "name": "ipython",
    "version": 3
   },
   "file_extension": ".py",
   "mimetype": "text/x-python",
   "name": "python",
   "nbconvert_exporter": "python",
   "pygments_lexer": "ipython3",
   "version": "3.6.5"
  }
 },
 "nbformat": 4,
 "nbformat_minor": 2
}
