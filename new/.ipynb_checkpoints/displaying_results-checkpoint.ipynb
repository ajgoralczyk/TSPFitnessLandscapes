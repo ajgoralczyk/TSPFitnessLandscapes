{
 "cells": [
  {
   "cell_type": "code",
   "execution_count": 4,
   "metadata": {},
   "outputs": [],
   "source": [
    "from main import *"
   ]
  },
  {
   "cell_type": "markdown",
   "metadata": {},
   "source": [
    "Sub-instances & LON generation\n",
    "\n",
    "\n",
    "- problem: bays29\n",
    "- 28 sub-instances (9 without 1 vertex, 9 without 2, 10 without 5)\n",
    "- 1000  Chained-LK runs\n",
    "- kick strength = 1\n",
    "- termination criterion = 1 000 consecutive non-improving iterations (later 10 000 will be used)\n"
   ]
  },
  {
   "cell_type": "code",
   "execution_count": 5,
   "metadata": {},
   "outputs": [],
   "source": [
    "data_file = \"bays29.tsp\"\n",
    "data_folder = \"data_bays29\"\n",
    "test_folder = \"1_bays29_1000\"\n",
    "kick_strength = 1"
   ]
  },
  {
   "cell_type": "code",
   "execution_count": null,
   "metadata": {},
   "outputs": [],
   "source": [
    "# main_part1__TSP_problems(data_file, data_folder)"
   ]
  },
  {
   "cell_type": "code",
   "execution_count": 6,
   "metadata": {},
   "outputs": [],
   "source": [
    "# done independently on different computers\n",
    "# main_part2__LONs(data_folder, test_folder + \"/1_lons\", test_folder + \"/3_performance_metrics\", kick_strength)"
   ]
  },
  {
   "cell_type": "markdown",
   "metadata": {},
   "source": [
    "LON image generation\n",
    "\n",
    "\n",
    "- nodes & edges selection ..."
   ]
  },
  {
   "cell_type": "code",
   "execution_count": 10,
   "metadata": {
    "scrolled": false
   },
   "outputs": [
    {
     "data": {
      "text/html": [
       "<div style='width: 50%; margin: 0px; float: left; border: 1px solid black;'><img src='1_bays29_1000/2_images/bays29.png' /><span>bays29.png</span></div><div style='width: 50%; margin: 0px; float: left; border: 1px solid black;'><img src='1_bays29_1000/2_images/bays29_1_0.png' /><span>bays29_1_0.png</span></div><div style='width: 50%; margin: 0px; float: left; border: 1px solid black;'><img src='1_bays29_1000/2_images/bays29_1_1.png' /><span>bays29_1_1.png</span></div><div style='width: 50%; margin: 0px; float: left; border: 1px solid black;'><img src='1_bays29_1000/2_images/bays29_1_2.png' /><span>bays29_1_2.png</span></div><div style='width: 50%; margin: 0px; float: left; border: 1px solid black;'><img src='1_bays29_1000/2_images/bays29_1_3.png' /><span>bays29_1_3.png</span></div><div style='width: 50%; margin: 0px; float: left; border: 1px solid black;'><img src='1_bays29_1000/2_images/bays29_1_4.png' /><span>bays29_1_4.png</span></div><div style='width: 50%; margin: 0px; float: left; border: 1px solid black;'><img src='1_bays29_1000/2_images/bays29_1_5.png' /><span>bays29_1_5.png</span></div><div style='width: 50%; margin: 0px; float: left; border: 1px solid black;'><img src='1_bays29_1000/2_images/bays29_1_6.png' /><span>bays29_1_6.png</span></div><div style='width: 50%; margin: 0px; float: left; border: 1px solid black;'><img src='1_bays29_1000/2_images/bays29_1_7.png' /><span>bays29_1_7.png</span></div><div style='width: 50%; margin: 0px; float: left; border: 1px solid black;'><img src='1_bays29_1000/2_images/bays29_1_8.png' /><span>bays29_1_8.png</span></div><div style='width: 50%; margin: 0px; float: left; border: 1px solid black;'><img src='1_bays29_1000/2_images/bays29_2_0.png' /><span>bays29_2_0.png</span></div><div style='width: 50%; margin: 0px; float: left; border: 1px solid black;'><img src='1_bays29_1000/2_images/bays29_2_1.png' /><span>bays29_2_1.png</span></div><div style='width: 50%; margin: 0px; float: left; border: 1px solid black;'><img src='1_bays29_1000/2_images/bays29_2_2.png' /><span>bays29_2_2.png</span></div><div style='width: 50%; margin: 0px; float: left; border: 1px solid black;'><img src='1_bays29_1000/2_images/bays29_2_3.png' /><span>bays29_2_3.png</span></div><div style='width: 50%; margin: 0px; float: left; border: 1px solid black;'><img src='1_bays29_1000/2_images/bays29_2_4.png' /><span>bays29_2_4.png</span></div><div style='width: 50%; margin: 0px; float: left; border: 1px solid black;'><img src='1_bays29_1000/2_images/bays29_2_5.png' /><span>bays29_2_5.png</span></div><div style='width: 50%; margin: 0px; float: left; border: 1px solid black;'><img src='1_bays29_1000/2_images/bays29_2_6.png' /><span>bays29_2_6.png</span></div><div style='width: 50%; margin: 0px; float: left; border: 1px solid black;'><img src='1_bays29_1000/2_images/bays29_2_7.png' /><span>bays29_2_7.png</span></div><div style='width: 50%; margin: 0px; float: left; border: 1px solid black;'><img src='1_bays29_1000/2_images/bays29_2_8.png' /><span>bays29_2_8.png</span></div><div style='width: 50%; margin: 0px; float: left; border: 1px solid black;'><img src='1_bays29_1000/2_images/bays29_5_0.png' /><span>bays29_5_0.png</span></div><div style='width: 50%; margin: 0px; float: left; border: 1px solid black;'><img src='1_bays29_1000/2_images/bays29_5_1.png' /><span>bays29_5_1.png</span></div><div style='width: 50%; margin: 0px; float: left; border: 1px solid black;'><img src='1_bays29_1000/2_images/bays29_5_2.png' /><span>bays29_5_2.png</span></div><div style='width: 50%; margin: 0px; float: left; border: 1px solid black;'><img src='1_bays29_1000/2_images/bays29_5_3.png' /><span>bays29_5_3.png</span></div><div style='width: 50%; margin: 0px; float: left; border: 1px solid black;'><img src='1_bays29_1000/2_images/bays29_5_4.png' /><span>bays29_5_4.png</span></div><div style='width: 50%; margin: 0px; float: left; border: 1px solid black;'><img src='1_bays29_1000/2_images/bays29_5_5.png' /><span>bays29_5_5.png</span></div><div style='width: 50%; margin: 0px; float: left; border: 1px solid black;'><img src='1_bays29_1000/2_images/bays29_5_6.png' /><span>bays29_5_6.png</span></div><div style='width: 50%; margin: 0px; float: left; border: 1px solid black;'><img src='1_bays29_1000/2_images/bays29_5_7.png' /><span>bays29_5_7.png</span></div><div style='width: 50%; margin: 0px; float: left; border: 1px solid black;'><img src='1_bays29_1000/2_images/bays29_5_8.png' /><span>bays29_5_8.png</span></div><div style='width: 50%; margin: 0px; float: left; border: 1px solid black;'><img src='1_bays29_1000/2_images/bays29_5_9.png' /><span>bays29_5_9.png</span></div>"
      ],
      "text/plain": [
       "<IPython.core.display.HTML object>"
      ]
     },
     "metadata": {},
     "output_type": "display_data"
    }
   ],
   "source": [
    "# main_part3__images(test_folder + \"/1_lons\", test_folder + \"/2_images\")\n",
    "print_images(test_folder + \"/2_images\")"
   ]
  },
  {
   "cell_type": "markdown",
   "metadata": {},
   "source": [
    "Network & performance metrics\n",
    "\n",
    "\n",
    "- success rate\n",
    "- mean number of iterations to success\n",
    "- number of nodes in LON\n",
    "- number of sinks in LON\n",
    "- relative in-strength of the globally optimal sink\n",
    "- proportion of nodes in the globally optimal funnels\n",
    "- proportion of nodes with unique path length"
   ]
  },
  {
   "cell_type": "code",
   "execution_count": null,
   "metadata": {},
   "outputs": [],
   "source": [
    "main_part4__metrics(test_folder + \"/1_lons\", test_folder + \"/4_network_metrics\")\n",
    "print_metrics(test_folder + \"/3_performance_metrics\", test_folder + \"/4_network_metrics\")"
   ]
  },
  {
   "cell_type": "markdown",
   "metadata": {},
   "source": [
    "LON projection images\n",
    "\n",
    "\n",
    "- with and without: loops and 'upstream edges' (edges from original graphs that in projection point from node representing shorter to longer path)\n",
    "- ..."
   ]
  },
  {
   "cell_type": "code",
   "execution_count": null,
   "metadata": {},
   "outputs": [],
   "source": [
    "# main_part5__projections(test_folder + \"/1_lons\", test_folder + \"/5_projections\")\n",
    "# main_part6__projection_images(test_folder + \"/5_projections\", test_folder + \"/6_projection_images\")\n",
    "# print_images(test_folder + \"/6_projection_images\")"
   ]
  },
  {
   "cell_type": "markdown",
   "metadata": {},
   "source": [
    "LON projection metrics\n",
    "\n",
    "\n",
    "- ..."
   ]
  },
  {
   "cell_type": "code",
   "execution_count": null,
   "metadata": {},
   "outputs": [],
   "source": [
    "# main_part7__projection_metrics(test_folder + \"/5_projections\", test_folder + \"/7_projection_metrics\")\n",
    "# print_projection_metrics(test_folder + \"/7_projection_metrics\")"
   ]
  },
  {
   "cell_type": "markdown",
   "metadata": {},
   "source": [
    "LON for sub-instance vs. LON projection \n",
    "\n",
    "\n",
    "- ..."
   ]
  },
  {
   "cell_type": "code",
   "execution_count": null,
   "metadata": {},
   "outputs": [],
   "source": [
    "# print_LONs_with_projections(test_folder + \"/2_images\", test_folder + \"/6_projection_images\")"
   ]
  }
 ],
 "metadata": {
  "kernelspec": {
   "display_name": "Python 3",
   "language": "python",
   "name": "python3"
  },
  "language_info": {
   "codemirror_mode": {
    "name": "ipython",
    "version": 3
   },
   "file_extension": ".py",
   "mimetype": "text/x-python",
   "name": "python",
   "nbconvert_exporter": "python",
   "pygments_lexer": "ipython3",
   "version": "3.6.5"
  }
 },
 "nbformat": 4,
 "nbformat_minor": 2
}
