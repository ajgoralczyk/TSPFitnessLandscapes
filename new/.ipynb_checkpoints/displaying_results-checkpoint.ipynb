{
 "cells": [
  {
   "cell_type": "code",
   "execution_count": 1,
   "metadata": {},
   "outputs": [],
   "source": [
    "from main import *\n",
    "from notebook import *"
   ]
  },
  {
   "cell_type": "markdown",
   "metadata": {},
   "source": [
    "Sub-instances & LON generation\n",
    "\n",
    "\n",
    "- problem: bays29\n",
    "- 28 sub-instances (9 without 1 vertex, 9 without 2, 10 without 5)\n",
    "- 1000  Chained-LK runs\n",
    "- kick strength = 1\n",
    "- termination criterion = 1 000 consecutive non-improving iterations (later 10 000 will be used)\n"
   ]
  },
  {
   "cell_type": "code",
   "execution_count": 11,
   "metadata": {},
   "outputs": [],
   "source": [
    "data_file = \"bays29.tsp\"\n",
    "data_folder = \"data_bays29\"\n",
    "test_folder = \"2_bays29_10000\"\n",
    "kick_strength = 1"
   ]
  },
  {
   "cell_type": "code",
   "execution_count": 12,
   "metadata": {},
   "outputs": [],
   "source": [
    "# main_part1__TSP_problems(data_file, data_folder)"
   ]
  },
  {
   "cell_type": "code",
   "execution_count": 13,
   "metadata": {},
   "outputs": [],
   "source": [
    "# done independently on different computers\n",
    "# main_part2__LONs(data_folder, test_folder + \"/1_lons\", test_folder + \"/3_performance_metrics\", kick_strength)"
   ]
  },
  {
   "cell_type": "markdown",
   "metadata": {},
   "source": [
    "LON image generation\n",
    "\n",
    "\n",
    "- nodes & edges selection ..."
   ]
  },
  {
   "cell_type": "code",
   "execution_count": 14,
   "metadata": {
    "scrolled": false
   },
   "outputs": [
    {
     "name": "stdout",
     "output_type": "stream",
     "text": [
      "IGRAPH D--- 402 330 -- \n",
      "image  4_bays29_1000/2_images/bays29_1_6\n",
      "IGRAPH D--- 401 337 -- \n",
      "image  4_bays29_1000/2_images/bays29_1_7\n",
      "IGRAPH D--- 401 337 -- \n",
      "image  4_bays29_1000/2_images/bays29_2_3\n",
      "IGRAPH D--- 406 358 -- \n",
      "image  4_bays29_1000/2_images/bays29_2_6\n",
      "IGRAPH D--- 401 384 -- \n",
      "image  4_bays29_1000/2_images/bays29_5_0\n"
     ]
    },
    {
     "data": {
      "text/html": [
       "<div style='width: 30%; margin: 1.5%; float: left'><img src='4_bays29_1000/2_images/bays29_1_6.png' /><span>bays29_1_6.png</span></div><div style='width: 30%; margin: 1.5%; float: left'><img src='4_bays29_1000/2_images/bays29_1_7.png' /><span>bays29_1_7.png</span></div><div style='width: 30%; margin: 1.5%; float: left'><img src='4_bays29_1000/2_images/bays29_2_3.png' /><span>bays29_2_3.png</span></div><div style='width: 30%; margin: 1.5%; float: left'><img src='4_bays29_1000/2_images/bays29_2_6.png' /><span>bays29_2_6.png</span></div><div style='width: 30%; margin: 1.5%; float: left'><img src='4_bays29_1000/2_images/bays29_5_0.png' /><span>bays29_5_0.png</span></div>"
      ],
      "text/plain": [
       "<IPython.core.display.HTML object>"
      ]
     },
     "metadata": {},
     "output_type": "display_data"
    }
   ],
   "source": [
    "main_part3__images(test_folder + \"/1_lons\", test_folder + \"/2_images\")\n",
    "print_images(test_folder + \"/2_images\")"
   ]
  },
  {
   "cell_type": "markdown",
   "metadata": {},
   "source": [
    "Network & performance metrics\n",
    "\n",
    "\n",
    "- success rate\n",
    "- mean number of iterations to success\n",
    "- number of nodes in LON\n",
    "- number of sinks in LON\n",
    "- relative in-strength of the globally optimal sink\n",
    "- proportion of nodes in the globally optimal funnels\n",
    "- proportion of nodes with unique path length"
   ]
  },
  {
   "cell_type": "code",
   "execution_count": null,
   "metadata": {},
   "outputs": [],
   "source": [
    "main_part4__metrics(test_folder + \"/1_lons\", test_folder + \"/3_performance_metrics\", test_folder + \"/4_network_metrics\")\n",
    "print_metrics(test_folder + \"/3_performance_metrics\", test_folder + \"/4_network_metrics\")"
   ]
  },
  {
   "cell_type": "markdown",
   "metadata": {},
   "source": [
    "LON projection images\n",
    "\n",
    "\n",
    "- with and without: loops and 'upstream edges' (edges from original graphs that in projection point from node representing shorter to longer path)\n",
    "- ..."
   ]
  },
  {
   "cell_type": "code",
   "execution_count": 7,
   "metadata": {
    "scrolled": false
   },
   "outputs": [
    {
     "name": "stdout",
     "output_type": "stream",
     "text": [
      "loops 15 upstream edges 190\n",
      "loops 1 upstream edges 55\n",
      "loops 0 upstream edges 59\n",
      "loops 2 upstream edges 50\n",
      "loops 6 upstream edges 140\n",
      "loops 2 upstream edges 50\n",
      "loops 17 upstream edges 114\n",
      "loops 3 upstream edges 37\n",
      "loops 6 upstream edges 140\n",
      "loops 4 upstream edges 80\n",
      "loops 19 upstream edges 161\n",
      "loops 18 upstream edges 157\n",
      "loops 7 upstream edges 89\n",
      "loops 37 upstream edges 310\n",
      "loops 26 upstream edges 256\n"
     ]
    }
   ],
   "source": [
    "main_part5__projections(test_folder + \"/1_lons\", test_folder + \"/5_projections\")"
   ]
  },
  {
   "cell_type": "code",
   "execution_count": 8,
   "metadata": {
    "scrolled": false
   },
   "outputs": [
    {
     "name": "stdout",
     "output_type": "stream",
     "text": [
      "IGRAPH D--- 403 381 -- \n",
      "image  2_bays29_10000/2_images/bays29_1_0\n",
      "IGRAPH D--- 401 274 -- \n",
      "image  2_bays29_10000/6_projection_images/bays29_1_0\n",
      "IGRAPH D--- 401 381 -- \n",
      "image  2_bays29_10000/2_images/bays29_1_1\n",
      "IGRAPH D--- 401 344 -- \n",
      "image  2_bays29_10000/6_projection_images/bays29_1_1\n",
      "IGRAPH D--- 407 402 -- \n",
      "image  2_bays29_10000/2_images/bays29_1_2\n",
      "IGRAPH D--- 402 323 -- \n",
      "image  2_bays29_10000/6_projection_images/bays29_1_2\n",
      "IGRAPH D--- 403 361 -- \n",
      "image  2_bays29_10000/2_images/bays29_1_3\n",
      "IGRAPH D--- 403 340 -- \n",
      "image  2_bays29_10000/6_projection_images/bays29_1_3\n",
      "IGRAPH D--- 402 370 -- \n",
      "image  2_bays29_10000/2_images/bays29_1_4\n",
      "IGRAPH D--- 401 306 -- \n",
      "image  2_bays29_10000/6_projection_images/bays29_1_4\n",
      "IGRAPH D--- 405 363 -- \n",
      "image  2_bays29_10000/2_images/bays29_1_5\n",
      "IGRAPH D--- 403 340 -- \n",
      "image  2_bays29_10000/6_projection_images/bays29_1_5\n",
      "IGRAPH D--- 402 371 -- \n",
      "image  2_bays29_10000/2_images/bays29_1_6\n",
      "IGRAPH D--- 402 317 -- \n",
      "image  2_bays29_10000/6_projection_images/bays29_1_6\n",
      "IGRAPH D--- 402 394 -- \n",
      "image  2_bays29_10000/2_images/bays29_1_7\n",
      "IGRAPH D--- 404 361 -- \n",
      "image  2_bays29_10000/6_projection_images/bays29_1_7\n",
      "IGRAPH D--- 402 370 -- \n",
      "image  2_bays29_10000/2_images/bays29_1_8\n",
      "IGRAPH D--- 401 306 -- \n",
      "image  2_bays29_10000/6_projection_images/bays29_1_8\n",
      "IGRAPH D--- 401 395 -- \n",
      "image  2_bays29_10000/2_images/bays29_2_0\n",
      "IGRAPH D--- 401 347 -- \n",
      "image  2_bays29_10000/6_projection_images/bays29_2_0\n",
      "IGRAPH D--- 405 371 -- \n",
      "image  2_bays29_10000/2_images/bays29_2_3\n",
      "IGRAPH D--- 401 289 -- \n",
      "image  2_bays29_10000/6_projection_images/bays29_2_3\n",
      "IGRAPH D--- 402 387 -- \n",
      "image  2_bays29_10000/2_images/bays29_2_6\n",
      "IGRAPH D--- 401 306 -- \n",
      "image  2_bays29_10000/6_projection_images/bays29_2_6\n",
      "IGRAPH D--- 405 375 -- \n",
      "image  2_bays29_10000/2_images/bays29_2_7\n",
      "IGRAPH D--- 401 339 -- \n",
      "image  2_bays29_10000/6_projection_images/bays29_2_7\n",
      "IGRAPH D--- 401 474 -- \n",
      "image  2_bays29_10000/2_images/bays29_5_3\n",
      "IGRAPH D--- 401 254 -- \n",
      "image  2_bays29_10000/6_projection_images/bays29_5_3\n",
      "IGRAPH D--- 402 410 -- \n",
      "image  2_bays29_10000/2_images/bays29_5_6\n",
      "IGRAPH D--- 404 278 -- \n",
      "image  2_bays29_10000/6_projection_images/bays29_5_6\n"
     ]
    },
    {
     "data": {
      "text/html": [
       "<div style='width: 30%; margin: 1.5%; float: left'><img src='2_bays29_10000/6_projection_images/bays29_1_0.png' /><span>bays29_1_0.png</span></div><div style='width: 30%; margin: 1.5%; float: left'><img src='2_bays29_10000/6_projection_images/bays29_1_1.png' /><span>bays29_1_1.png</span></div><div style='width: 30%; margin: 1.5%; float: left'><img src='2_bays29_10000/6_projection_images/bays29_1_2.png' /><span>bays29_1_2.png</span></div><div style='width: 30%; margin: 1.5%; float: left'><img src='2_bays29_10000/6_projection_images/bays29_1_3.png' /><span>bays29_1_3.png</span></div><div style='width: 30%; margin: 1.5%; float: left'><img src='2_bays29_10000/6_projection_images/bays29_1_4.png' /><span>bays29_1_4.png</span></div><div style='width: 30%; margin: 1.5%; float: left'><img src='2_bays29_10000/6_projection_images/bays29_1_5.png' /><span>bays29_1_5.png</span></div><div style='width: 30%; margin: 1.5%; float: left'><img src='2_bays29_10000/6_projection_images/bays29_1_6.png' /><span>bays29_1_6.png</span></div><div style='width: 30%; margin: 1.5%; float: left'><img src='2_bays29_10000/6_projection_images/bays29_1_7.png' /><span>bays29_1_7.png</span></div><div style='width: 30%; margin: 1.5%; float: left'><img src='2_bays29_10000/6_projection_images/bays29_1_8.png' /><span>bays29_1_8.png</span></div><div style='width: 30%; margin: 1.5%; float: left'><img src='2_bays29_10000/6_projection_images/bays29_2_0.png' /><span>bays29_2_0.png</span></div><div style='width: 30%; margin: 1.5%; float: left'><img src='2_bays29_10000/6_projection_images/bays29_2_3.png' /><span>bays29_2_3.png</span></div><div style='width: 30%; margin: 1.5%; float: left'><img src='2_bays29_10000/6_projection_images/bays29_2_6.png' /><span>bays29_2_6.png</span></div><div style='width: 30%; margin: 1.5%; float: left'><img src='2_bays29_10000/6_projection_images/bays29_2_7.png' /><span>bays29_2_7.png</span></div><div style='width: 30%; margin: 1.5%; float: left'><img src='2_bays29_10000/6_projection_images/bays29_5_3.png' /><span>bays29_5_3.png</span></div><div style='width: 30%; margin: 1.5%; float: left'><img src='2_bays29_10000/6_projection_images/bays29_5_6.png' /><span>bays29_5_6.png</span></div>"
      ],
      "text/plain": [
       "<IPython.core.display.HTML object>"
      ]
     },
     "metadata": {},
     "output_type": "display_data"
    }
   ],
   "source": [
    "main_part6__projection_images(test_folder + \"/5_projections\", test_folder + \"/1_lons\", test_folder + \"/2_images\", test_folder + \"/6_projection_images\")\n",
    "print_images(test_folder + \"/6_projection_images\")"
   ]
  },
  {
   "cell_type": "markdown",
   "metadata": {},
   "source": [
    "LON projection metrics\n",
    "\n",
    "\n",
    "- ..."
   ]
  },
  {
   "cell_type": "code",
   "execution_count": 8,
   "metadata": {},
   "outputs": [],
   "source": [
    "# main_part7__projection_metrics(test_folder + \"/5_projections\", test_folder + \"/7_projection_metrics\")\n",
    "# print_projection_metrics(test_folder + \"/7_projection_metrics\")"
   ]
  },
  {
   "cell_type": "markdown",
   "metadata": {},
   "source": [
    "LON for sub-instance vs. LON projection \n",
    "\n",
    "\n",
    "- ..."
   ]
  },
  {
   "cell_type": "code",
   "execution_count": 9,
   "metadata": {
    "scrolled": false
   },
   "outputs": [
    {
     "data": {
      "text/html": [
       "<div style='width: 45%; margin: 2.5%; float: left'><img src='2_bays29_10000/6_projection_images/bays29.png' /><span>bays29.png - projection</span></div><div style='width: 45%; margin: 2.5%; float: left'><img src='2_bays29_10000/2_images/bays29.png' /><span>bays29.png - LON</span></div><div style='width: 45%; margin: 2.5%; float: left'><img src='2_bays29_10000/6_projection_images/bays29_1_0.png' /><span>bays29_1_0.png - projection</span></div><div style='width: 45%; margin: 2.5%; float: left'><img src='2_bays29_10000/2_images/bays29_1_0.png' /><span>bays29_1_0.png - LON</span></div><div style='width: 45%; margin: 2.5%; float: left'><img src='2_bays29_10000/6_projection_images/bays29_1_1.png' /><span>bays29_1_1.png - projection</span></div><div style='width: 45%; margin: 2.5%; float: left'><img src='2_bays29_10000/2_images/bays29_1_1.png' /><span>bays29_1_1.png - LON</span></div><div style='width: 45%; margin: 2.5%; float: left'><img src='2_bays29_10000/6_projection_images/bays29_1_2.png' /><span>bays29_1_2.png - projection</span></div><div style='width: 45%; margin: 2.5%; float: left'><img src='2_bays29_10000/2_images/bays29_1_2.png' /><span>bays29_1_2.png - LON</span></div><div style='width: 45%; margin: 2.5%; float: left'><img src='2_bays29_10000/6_projection_images/bays29_1_3.png' /><span>bays29_1_3.png - projection</span></div><div style='width: 45%; margin: 2.5%; float: left'><img src='2_bays29_10000/2_images/bays29_1_3.png' /><span>bays29_1_3.png - LON</span></div><div style='width: 45%; margin: 2.5%; float: left'><img src='2_bays29_10000/6_projection_images/bays29_1_4.png' /><span>bays29_1_4.png - projection</span></div><div style='width: 45%; margin: 2.5%; float: left'><img src='2_bays29_10000/2_images/bays29_1_4.png' /><span>bays29_1_4.png - LON</span></div><div style='width: 45%; margin: 2.5%; float: left'><img src='2_bays29_10000/6_projection_images/bays29_1_5.png' /><span>bays29_1_5.png - projection</span></div><div style='width: 45%; margin: 2.5%; float: left'><img src='2_bays29_10000/2_images/bays29_1_5.png' /><span>bays29_1_5.png - LON</span></div><div style='width: 45%; margin: 2.5%; float: left'><img src='2_bays29_10000/6_projection_images/bays29_1_6.png' /><span>bays29_1_6.png - projection</span></div><div style='width: 45%; margin: 2.5%; float: left'><img src='2_bays29_10000/2_images/bays29_1_6.png' /><span>bays29_1_6.png - LON</span></div><div style='width: 45%; margin: 2.5%; float: left'><img src='2_bays29_10000/6_projection_images/bays29_1_7.png' /><span>bays29_1_7.png - projection</span></div><div style='width: 45%; margin: 2.5%; float: left'><img src='2_bays29_10000/2_images/bays29_1_7.png' /><span>bays29_1_7.png - LON</span></div><div style='width: 45%; margin: 2.5%; float: left'><img src='2_bays29_10000/6_projection_images/bays29_1_8.png' /><span>bays29_1_8.png - projection</span></div><div style='width: 45%; margin: 2.5%; float: left'><img src='2_bays29_10000/2_images/bays29_1_8.png' /><span>bays29_1_8.png - LON</span></div><div style='width: 45%; margin: 2.5%; float: left'><img src='2_bays29_10000/6_projection_images/bays29_2_0.png' /><span>bays29_2_0.png - projection</span></div><div style='width: 45%; margin: 2.5%; float: left'><img src='2_bays29_10000/2_images/bays29_2_0.png' /><span>bays29_2_0.png - LON</span></div><div style='width: 45%; margin: 2.5%; float: left'><img src='2_bays29_10000/6_projection_images/bays29_2_3.png' /><span>bays29_2_3.png - projection</span></div><div style='width: 45%; margin: 2.5%; float: left'><img src='2_bays29_10000/2_images/bays29_2_3.png' /><span>bays29_2_3.png - LON</span></div><div style='width: 45%; margin: 2.5%; float: left'><img src='2_bays29_10000/6_projection_images/bays29_2_6.png' /><span>bays29_2_6.png - projection</span></div><div style='width: 45%; margin: 2.5%; float: left'><img src='2_bays29_10000/2_images/bays29_2_6.png' /><span>bays29_2_6.png - LON</span></div><div style='width: 45%; margin: 2.5%; float: left'><img src='2_bays29_10000/6_projection_images/bays29_2_7.png' /><span>bays29_2_7.png - projection</span></div><div style='width: 45%; margin: 2.5%; float: left'><img src='2_bays29_10000/2_images/bays29_2_7.png' /><span>bays29_2_7.png - LON</span></div><div style='width: 45%; margin: 2.5%; float: left'><img src='2_bays29_10000/6_projection_images/bays29_5_3.png' /><span>bays29_5_3.png - projection</span></div><div style='width: 45%; margin: 2.5%; float: left'><img src='2_bays29_10000/2_images/bays29_5_3.png' /><span>bays29_5_3.png - LON</span></div><div style='width: 45%; margin: 2.5%; float: left'><img src='2_bays29_10000/6_projection_images/bays29_5_6.png' /><span>bays29_5_6.png - projection</span></div><div style='width: 45%; margin: 2.5%; float: left'><img src='2_bays29_10000/2_images/bays29_5_6.png' /><span>bays29_5_6.png - LON</span></div>"
      ],
      "text/plain": [
       "<IPython.core.display.HTML object>"
      ]
     },
     "metadata": {},
     "output_type": "display_data"
    }
   ],
   "source": [
    "print_images_and_projections(test_folder + \"/2_images\", test_folder + \"/6_projection_images\")"
   ]
  },
  {
   "cell_type": "code",
   "execution_count": null,
   "metadata": {},
   "outputs": [],
   "source": []
  }
 ],
 "metadata": {
  "kernelspec": {
   "display_name": "Python 3",
   "language": "python",
   "name": "python3"
  },
  "language_info": {
   "codemirror_mode": {
    "name": "ipython",
    "version": 3
   },
   "file_extension": ".py",
   "mimetype": "text/x-python",
   "name": "python",
   "nbconvert_exporter": "python",
   "pygments_lexer": "ipython3",
   "version": "3.6.5"
  }
 },
 "nbformat": 4,
 "nbformat_minor": 2
}
