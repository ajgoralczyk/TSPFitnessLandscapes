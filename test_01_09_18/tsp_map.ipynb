{
 "cells": [
  {
   "cell_type": "markdown",
   "metadata": {},
   "source": [
    "# Test 01.09.18"
   ]
  },
  {
   "cell_type": "code",
   "execution_count": 1,
   "metadata": {},
   "outputs": [],
   "source": [
    "from tsp_map import *"
   ]
  },
  {
   "cell_type": "code",
   "execution_count": 2,
   "metadata": {},
   "outputs": [
    {
     "name": "stdout",
     "output_type": "stream",
     "text": [
      "39718.87075328827\n"
     ]
    }
   ],
   "source": [
    "instance_graph(\"bays29\", \"graphs/bays29\")\n"
   ]
  },
  {
   "cell_type": "code",
   "execution_count": 3,
   "metadata": {},
   "outputs": [
    {
     "ename": "NameError",
     "evalue": "name 'subinstances_graphs' is not defined",
     "output_type": "error",
     "traceback": [
      "\u001b[1;31m---------------------------------------------------------------------------\u001b[0m",
      "\u001b[1;31mNameError\u001b[0m                                 Traceback (most recent call last)",
      "\u001b[1;32m<ipython-input-3-14f14c2e9901>\u001b[0m in \u001b[0;36m<module>\u001b[1;34m()\u001b[0m\n\u001b[1;32m----> 1\u001b[1;33m \u001b[0msubinstances_graphs\u001b[0m\u001b[1;33m(\u001b[0m\u001b[1;34m\"bays29\"\u001b[0m\u001b[1;33m,\u001b[0m \u001b[1;34m\"graphs/bays29\"\u001b[0m\u001b[1;33m,\u001b[0m \u001b[1;36m9\u001b[0m\u001b[1;33m,\u001b[0m \u001b[1;36m1\u001b[0m\u001b[1;33m)\u001b[0m\u001b[1;33m\u001b[0m\u001b[0m\n\u001b[0m\u001b[0;32m      2\u001b[0m \u001b[0msubinstances_graphs\u001b[0m\u001b[1;33m(\u001b[0m\u001b[1;34m\"bays29\"\u001b[0m\u001b[1;33m,\u001b[0m \u001b[1;34m\"graphs/bays29\"\u001b[0m\u001b[1;33m,\u001b[0m \u001b[1;36m9\u001b[0m\u001b[1;33m,\u001b[0m \u001b[1;36m2\u001b[0m\u001b[1;33m)\u001b[0m\u001b[1;33m\u001b[0m\u001b[0m\n\u001b[0;32m      3\u001b[0m \u001b[0msubinstances_graphs\u001b[0m\u001b[1;33m(\u001b[0m\u001b[1;34m\"bays29\"\u001b[0m\u001b[1;33m,\u001b[0m \u001b[1;34m\"graphs/bays29\"\u001b[0m\u001b[1;33m,\u001b[0m \u001b[1;36m10\u001b[0m\u001b[1;33m,\u001b[0m \u001b[1;36m5\u001b[0m\u001b[1;33m)\u001b[0m\u001b[1;33m\u001b[0m\u001b[0m\n",
      "\u001b[1;31mNameError\u001b[0m: name 'subinstances_graphs' is not defined"
     ]
    }
   ],
   "source": [
    "subinstances_graphs(\"bays29\", \"graphs/bays29\", 9, 1)\n",
    "subinstances_graphs(\"bays29\", \"graphs/bays29\", 9, 2)\n",
    "subinstances_graphs(\"bays29\", \"graphs/bays29\", 10, 5)"
   ]
  },
  {
   "cell_type": "code",
   "execution_count": null,
   "metadata": {},
   "outputs": [],
   "source": [
    "generate_image(\"bays29\")"
   ]
  },
  {
   "cell_type": "code",
   "execution_count": null,
   "metadata": {},
   "outputs": [],
   "source": [
    "gen_sub_images(\"graphs/bays29\", 9, 1)\n",
    "gen_sub_images(\"graphs/bays29\", 9, 2)\n",
    "gen_sub_images(\"graphs/bays29\", 10, 5)"
   ]
  },
  {
   "cell_type": "code",
   "execution_count": null,
   "metadata": {},
   "outputs": [],
   "source": [
    "print_subs(\"graphs/bays29\", 9, 1)\n",
    "print_subs(\"graphs/bays29\", 9, 2)\n",
    "print_subs(\"graphs/bays29\", 10, 5)"
   ]
  },
  {
   "cell_type": "code",
   "execution_count": null,
   "metadata": {},
   "outputs": [],
   "source": []
  }
 ],
 "metadata": {
  "kernelspec": {
   "display_name": "Python 3",
   "language": "python",
   "name": "python3"
  },
  "language_info": {
   "codemirror_mode": {
    "name": "ipython",
    "version": 3
   },
   "file_extension": ".py",
   "mimetype": "text/x-python",
   "name": "python",
   "nbconvert_exporter": "python",
   "pygments_lexer": "ipython3",
   "version": "3.6.5"
  }
 },
 "nbformat": 4,
 "nbformat_minor": 2
}
