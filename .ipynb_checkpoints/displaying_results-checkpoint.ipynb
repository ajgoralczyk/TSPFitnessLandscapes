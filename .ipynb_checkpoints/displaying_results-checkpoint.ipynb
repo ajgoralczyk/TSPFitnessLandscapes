{
 "cells": [
  {
   "cell_type": "code",
   "execution_count": 1,
   "metadata": {},
   "outputs": [],
   "source": [
    "from main import *\n",
    "from notebook import *"
   ]
  },
  {
   "cell_type": "markdown",
   "metadata": {},
   "source": [
    "Sub-instances & LON generation\n",
    "\n",
    "\n",
    "- problem: bays29\n",
    "- 28 sub-instances (9 without 1 vertex, 9 without 2, 10 without 5)\n",
    "- 1000  Chained-LK runs\n",
    "- kick strength = 1\n",
    "- termination criterion = 1 000 consecutive non-improving iterations (later 10 000 will be used)\n"
   ]
  },
  {
   "cell_type": "code",
   "execution_count": 2,
   "metadata": {},
   "outputs": [],
   "source": [
    "# data_file = \"bays29.tsp\"\n",
    "# data_folder = \"data/data_bays29\"\n",
    "# test_folder = \"new_results\"\n",
    "kick_strength = 1\n",
    "\n",
    "data_folder = \"checking_data\"\n",
    "test_folder = \"checking\""
   ]
  },
  {
   "cell_type": "code",
   "execution_count": 3,
   "metadata": {},
   "outputs": [],
   "source": [
    "# main_part1__TSP_problems(data_file, data_folder)"
   ]
  },
  {
   "cell_type": "code",
   "execution_count": 4,
   "metadata": {},
   "outputs": [],
   "source": [
    "# done independently on different computers\n",
    "# main_part2__LONs(data_folder, test_folder + \"/1_lons\", test_folder + \"/3_performance_metrics\", kick_strength)"
   ]
  },
  {
   "cell_type": "markdown",
   "metadata": {},
   "source": [
    "LON image generation\n",
    "\n",
    "\n",
    "- nodes & edges selection ..."
   ]
  },
  {
   "cell_type": "code",
   "execution_count": 6,
   "metadata": {
    "scrolled": false
   },
   "outputs": [
    {
     "data": {
      "text/html": [
       "<div style='width: 30%; margin: 1.5%; float: left'><img src='new_results/2_images/bays29.png' /><span>bays29.png</span></div><div style='width: 30%; margin: 1.5%; float: left'><img src='new_results/2_images/bays29_1_1.png' /><span>bays29_1_1.png</span></div><div style='width: 30%; margin: 1.5%; float: left'><img src='new_results/2_images/bays29_1_3.png' /><span>bays29_1_3.png</span></div><div style='width: 30%; margin: 1.5%; float: left'><img src='new_results/2_images/bays29_1_4.png' /><span>bays29_1_4.png</span></div><div style='width: 30%; margin: 1.5%; float: left'><img src='new_results/2_images/bays29_1_6.png' /><span>bays29_1_6.png</span></div><div style='width: 30%; margin: 1.5%; float: left'><img src='new_results/2_images/bays29_1_7.png' /><span>bays29_1_7.png</span></div><div style='width: 30%; margin: 1.5%; float: left'><img src='new_results/2_images/bays29_1_8.png' /><span>bays29_1_8.png</span></div><div style='width: 30%; margin: 1.5%; float: left'><img src='new_results/2_images/bays29_2_1.png' /><span>bays29_2_1.png</span></div><div style='width: 30%; margin: 1.5%; float: left'><img src='new_results/2_images/bays29_2_2.png' /><span>bays29_2_2.png</span></div><div style='width: 30%; margin: 1.5%; float: left'><img src='new_results/2_images/bays29_2_3.png' /><span>bays29_2_3.png</span></div><div style='width: 30%; margin: 1.5%; float: left'><img src='new_results/2_images/bays29_2_4.png' /><span>bays29_2_4.png</span></div><div style='width: 30%; margin: 1.5%; float: left'><img src='new_results/2_images/bays29_2_5.png' /><span>bays29_2_5.png</span></div><div style='width: 30%; margin: 1.5%; float: left'><img src='new_results/2_images/bays29_2_6.png' /><span>bays29_2_6.png</span></div><div style='width: 30%; margin: 1.5%; float: left'><img src='new_results/2_images/bays29_2_7.png' /><span>bays29_2_7.png</span></div><div style='width: 30%; margin: 1.5%; float: left'><img src='new_results/2_images/bays29_2_8.png' /><span>bays29_2_8.png</span></div><div style='width: 30%; margin: 1.5%; float: left'><img src='new_results/2_images/bays29_5_0.png' /><span>bays29_5_0.png</span></div><div style='width: 30%; margin: 1.5%; float: left'><img src='new_results/2_images/bays29_5_1.png' /><span>bays29_5_1.png</span></div><div style='width: 30%; margin: 1.5%; float: left'><img src='new_results/2_images/bays29_5_2.png' /><span>bays29_5_2.png</span></div><div style='width: 30%; margin: 1.5%; float: left'><img src='new_results/2_images/bays29_5_3.png' /><span>bays29_5_3.png</span></div><div style='width: 30%; margin: 1.5%; float: left'><img src='new_results/2_images/bays29_5_6.png' /><span>bays29_5_6.png</span></div><div style='width: 30%; margin: 1.5%; float: left'><img src='new_results/2_images/bays29_5_7.png' /><span>bays29_5_7.png</span></div><div style='width: 30%; margin: 1.5%; float: left'><img src='new_results/2_images/bays29_5_8.png' /><span>bays29_5_8.png</span></div><div style='width: 30%; margin: 1.5%; float: left'><img src='new_results/2_images/bays29_5_9.png' /><span>bays29_5_9.png</span></div><div style='width: 30%; margin: 1.5%; float: left'><img src='new_results/2_images/berlin52.png' /><span>berlin52.png</span></div><div style='width: 30%; margin: 1.5%; float: left'><img src='new_results/2_images/berlin52_10_1.png' /><span>berlin52_10_1.png</span></div><div style='width: 30%; margin: 1.5%; float: left'><img src='new_results/2_images/berlin52_10_2.png' /><span>berlin52_10_2.png</span></div><div style='width: 30%; margin: 1.5%; float: left'><img src='new_results/2_images/berlin52_10_4.png' /><span>berlin52_10_4.png</span></div><div style='width: 30%; margin: 1.5%; float: left'><img src='new_results/2_images/berlin52_2_0.png' /><span>berlin52_2_0.png</span></div><div style='width: 30%; margin: 1.5%; float: left'><img src='new_results/2_images/berlin52_2_3.png' /><span>berlin52_2_3.png</span></div><div style='width: 30%; margin: 1.5%; float: left'><img src='new_results/2_images/berlin52_2_4.png' /><span>berlin52_2_4.png</span></div><div style='width: 30%; margin: 1.5%; float: left'><img src='new_results/2_images/berlin52_5_0.png' /><span>berlin52_5_0.png</span></div><div style='width: 30%; margin: 1.5%; float: left'><img src='new_results/2_images/eil76_10_2.png' /><span>eil76_10_2.png</span></div><div style='width: 30%; margin: 1.5%; float: left'><img src='new_results/2_images/lin105_5_3.png' /><span>lin105_5_3.png</span></div>"
      ],
      "text/plain": [
       "<IPython.core.display.HTML object>"
      ]
     },
     "metadata": {},
     "output_type": "display_data"
    }
   ],
   "source": [
    "# LON_visualization(\"\", test_folder + \"/1_lons\", test_folder + \"/2_images\")\n",
    "print_images(test_folder + \"/2_images\")"
   ]
  },
  {
   "cell_type": "markdown",
   "metadata": {},
   "source": [
    "Network & performance metrics\n",
    "\n",
    "\n",
    "- success rate\n",
    "- mean number of iterations to success\n",
    "- number of nodes in LON\n",
    "- number of sinks in LON\n",
    "- relative in-strength of the globally optimal sink\n",
    "- proportion of nodes in the globally optimal funnels\n",
    "- proportion of nodes with unique path length"
   ]
  },
  {
   "cell_type": "code",
   "execution_count": 7,
   "metadata": {},
   "outputs": [
    {
     "name": "stdout",
     "output_type": "stream",
     "text": [
      "Success rate [0.582, 0.502, 0.417, 0.703, 0.964, 0.489, 0.703, 0.965, 0.584, 0.928, 1.0, 0.298, 0.976, 0.645, 0.5, 0.94, 0.988, 0.43, 1.0, 0.916, 0.988, 0.882, 0.977, 0.965, 0.083, 0.129, 1.0, 0.976, 0.98, 0.988, 0.929, 0.25, 0.008]\n",
      "Iterations to success ['2423.73', '1515.36', '1345.00', '1632.14', '551.27', '1843.48', '1632.14', '581.26', '1366.66', '725.03', '409.52', '1184.46', '821.58', '1147.38', '1029.00', '587.06', '447.77', '1239.00', '190.69', '585.85', '310.34', '672.75', '503.39', '2635.06', '2321.88', '4571.84', '1233.33', '1963.31', '2315.99', '2586.65', '2132.62', '5943.12', '8797.00']\n",
      "Number of nodes [829, 846, 852, 780, 812, 733, 780, 792, 808, 653, 699, 755, 700, 743, 778, 704, 679, 681, 609, 756, 586, 616, 756, 1717, 1654, 1665, 1356, 1707, 4805, 1659, 1565, 2653, 6303]\n",
      "Number of edges [883, 902, 902, 841, 866, 773, 841, 844, 855, 694, 752, 817, 742, 801, 833, 765, 729, 731, 659, 817, 639, 661, 803, 1743, 1686, 1709, 1388, 1729, 4932, 1686, 1592, 2616, 6231]\n",
      "Number of sinks [1, 1, 1, 1, 1, 1, 1, 2, 1, 1, 2, 1, 1, 1, 1, 1, 1, 1, 1, 2, 2, 1, 1, 5, 4, 2, 2, 4, 4, 3, 4, 48, 80]\n",
      "Relative in-strength ['1.00', '1.00', '1.00', '1.00', '1.00', '1.00', '1.00', '1.00', '1.00', '1.00', '1.00', '1.00', '1.00', '1.00', '1.00', '1.00', '1.00', '1.00', '1.00', '1.00', '1.00', '1.00', '1.00', '0.90', '0.20', '0.82', '1.00', '0.94', '0.95', '0.96', '0.90', '0.26', '0.01']\n",
      "Proportion of nodes in optimal funnels ['1.00', '1.00', '1.00', '1.00', '1.00', '1.00', '1.00', '1.00', '1.00', '1.00', '1.00', '1.00', '1.00', '1.00', '1.00', '1.00', '1.00', '1.00', '1.00', '1.00', '1.00', '1.00', '1.00', '0.97', '0.80', '0.99', '1.00', '0.97', '0.99', '0.98', '0.95', '0.42', '0.02']\n",
      "Proportion of nodes with unique path length ['0.59', '0.59', '0.57', '0.58', '0.62', '0.63', '0.58', '0.62', '0.55', '0.64', '0.63', '0.56', '0.64', '0.63', '0.62', '0.57', '0.61', '0.59', '0.69', '0.58', '0.67', '0.64', '0.58', '0.73', '0.72', '0.66', '0.76', '0.73', '0.51', '0.73', '0.75', '0.15', '0.63']\n"
     ]
    }
   ],
   "source": [
    "metrics(data_folder, test_folder + \"/1_lons\", test_folder + \"/3_performance_metrics\", test_folder + \"/4_network_metrics\", 1000)\n",
    "print_metrics(test_folder + \"/4_network_metrics\")"
   ]
  },
  {
   "cell_type": "markdown",
   "metadata": {},
   "source": [
    "LON projection images\n",
    "\n",
    "\n",
    "- with and without: loops and 'upstream edges' (edges from original graphs that in projection point from node representing shorter to longer path)\n",
    "- ..."
   ]
  },
  {
   "cell_type": "code",
   "execution_count": 7,
   "metadata": {
    "scrolled": false
   },
   "outputs": [
    {
     "name": "stdout",
     "output_type": "stream",
     "text": [
      "loops 14 upstream edges 196\n",
      "loops 1 upstream edges 45\n",
      "loops 0 upstream edges 62\n",
      "loops 1 upstream edges 57\n",
      "loops 11 upstream edges 147\n",
      "loops 1 upstream edges 57\n",
      "loops 13 upstream edges 119\n",
      "loops 2 upstream edges 29\n",
      "loops 11 upstream edges 147\n",
      "loops 13 upstream edges 92\n",
      "loops 13 upstream edges 186\n",
      "loops 13 upstream edges 161\n",
      "loops 6 upstream edges 95\n",
      "loops 35 upstream edges 327\n",
      "loops 19 upstream edges 282\n"
     ]
    }
   ],
   "source": [
    "main_part5__projections(test_folder + \"/1_lons\", test_folder + \"/5_projections\")"
   ]
  },
  {
   "cell_type": "code",
   "execution_count": 6,
   "metadata": {
    "scrolled": false
   },
   "outputs": [
    {
     "data": {
      "text/html": [],
      "text/plain": [
       "<IPython.core.display.HTML object>"
      ]
     },
     "metadata": {},
     "output_type": "display_data"
    }
   ],
   "source": [
    "main_part6__projection_images(test_folder + \"/5_projections\", test_folder + \"/1_lons\", test_folder + \"/2_images\", test_folder + \"/6_projection_images\")\n",
    "print_images(test_folder + \"/6_projection_images\")"
   ]
  },
  {
   "cell_type": "markdown",
   "metadata": {},
   "source": [
    "LON projection metrics\n",
    "\n",
    "\n",
    "- ..."
   ]
  },
  {
   "cell_type": "code",
   "execution_count": 9,
   "metadata": {},
   "outputs": [],
   "source": [
    "# main_part7__projection_metrics(test_folder + \"/5_projections\", test_folder + \"/7_projection_metrics\")\n",
    "# print_projection_metrics(test_folder + \"/7_projection_metrics\")"
   ]
  },
  {
   "cell_type": "markdown",
   "metadata": {},
   "source": [
    "LON for sub-instance vs. LON projection \n",
    "\n",
    "\n",
    "- ..."
   ]
  },
  {
   "cell_type": "code",
   "execution_count": 10,
   "metadata": {
    "scrolled": false
   },
   "outputs": [
    {
     "data": {
      "text/html": [
       "<div style='width: 45%; margin: 2.5%; float: left'><img src='3_bays29_100000/6_projection_images/bays29.png' /><span>bays29.png - projection</span></div><div style='width: 45%; margin: 2.5%; float: left'><img src='3_bays29_100000/2_images/bays29.png' /><span>bays29.png - LON</span></div><div style='width: 45%; margin: 2.5%; float: left'><img src='3_bays29_100000/6_projection_images/bays29_1_0.png' /><span>bays29_1_0.png - projection</span></div><div style='width: 45%; margin: 2.5%; float: left'><img src='3_bays29_100000/2_images/bays29_1_0.png' /><span>bays29_1_0.png - LON</span></div><div style='width: 45%; margin: 2.5%; float: left'><img src='3_bays29_100000/6_projection_images/bays29_1_1.png' /><span>bays29_1_1.png - projection</span></div><div style='width: 45%; margin: 2.5%; float: left'><img src='3_bays29_100000/2_images/bays29_1_1.png' /><span>bays29_1_1.png - LON</span></div><div style='width: 45%; margin: 2.5%; float: left'><img src='3_bays29_100000/6_projection_images/bays29_1_2.png' /><span>bays29_1_2.png - projection</span></div><div style='width: 45%; margin: 2.5%; float: left'><img src='3_bays29_100000/2_images/bays29_1_2.png' /><span>bays29_1_2.png - LON</span></div><div style='width: 45%; margin: 2.5%; float: left'><img src='3_bays29_100000/6_projection_images/bays29_1_3.png' /><span>bays29_1_3.png - projection</span></div><div style='width: 45%; margin: 2.5%; float: left'><img src='3_bays29_100000/2_images/bays29_1_3.png' /><span>bays29_1_3.png - LON</span></div><div style='width: 45%; margin: 2.5%; float: left'><img src='3_bays29_100000/6_projection_images/bays29_1_4.png' /><span>bays29_1_4.png - projection</span></div><div style='width: 45%; margin: 2.5%; float: left'><img src='3_bays29_100000/2_images/bays29_1_4.png' /><span>bays29_1_4.png - LON</span></div><div style='width: 45%; margin: 2.5%; float: left'><img src='3_bays29_100000/6_projection_images/bays29_1_5.png' /><span>bays29_1_5.png - projection</span></div><div style='width: 45%; margin: 2.5%; float: left'><img src='3_bays29_100000/2_images/bays29_1_5.png' /><span>bays29_1_5.png - LON</span></div><div style='width: 45%; margin: 2.5%; float: left'><img src='3_bays29_100000/6_projection_images/bays29_1_6.png' /><span>bays29_1_6.png - projection</span></div><div style='width: 45%; margin: 2.5%; float: left'><img src='3_bays29_100000/2_images/bays29_1_6.png' /><span>bays29_1_6.png - LON</span></div><div style='width: 45%; margin: 2.5%; float: left'><img src='3_bays29_100000/6_projection_images/bays29_1_7.png' /><span>bays29_1_7.png - projection</span></div><div style='width: 45%; margin: 2.5%; float: left'><img src='3_bays29_100000/2_images/bays29_1_7.png' /><span>bays29_1_7.png - LON</span></div><div style='width: 45%; margin: 2.5%; float: left'><img src='3_bays29_100000/6_projection_images/bays29_1_8.png' /><span>bays29_1_8.png - projection</span></div><div style='width: 45%; margin: 2.5%; float: left'><img src='3_bays29_100000/2_images/bays29_1_8.png' /><span>bays29_1_8.png - LON</span></div><div style='width: 45%; margin: 2.5%; float: left'><img src='3_bays29_100000/6_projection_images/bays29_2_0.png' /><span>bays29_2_0.png - projection</span></div><div style='width: 45%; margin: 2.5%; float: left'><img src='3_bays29_100000/2_images/bays29_2_0.png' /><span>bays29_2_0.png - LON</span></div><div style='width: 45%; margin: 2.5%; float: left'><img src='3_bays29_100000/6_projection_images/bays29_2_3.png' /><span>bays29_2_3.png - projection</span></div><div style='width: 45%; margin: 2.5%; float: left'><img src='3_bays29_100000/2_images/bays29_2_3.png' /><span>bays29_2_3.png - LON</span></div><div style='width: 45%; margin: 2.5%; float: left'><img src='3_bays29_100000/6_projection_images/bays29_2_6.png' /><span>bays29_2_6.png - projection</span></div><div style='width: 45%; margin: 2.5%; float: left'><img src='3_bays29_100000/2_images/bays29_2_6.png' /><span>bays29_2_6.png - LON</span></div><div style='width: 45%; margin: 2.5%; float: left'><img src='3_bays29_100000/6_projection_images/bays29_2_7.png' /><span>bays29_2_7.png - projection</span></div><div style='width: 45%; margin: 2.5%; float: left'><img src='3_bays29_100000/2_images/bays29_2_7.png' /><span>bays29_2_7.png - LON</span></div><div style='width: 45%; margin: 2.5%; float: left'><img src='3_bays29_100000/6_projection_images/bays29_5_3.png' /><span>bays29_5_3.png - projection</span></div><div style='width: 45%; margin: 2.5%; float: left'><img src='3_bays29_100000/2_images/bays29_5_3.png' /><span>bays29_5_3.png - LON</span></div><div style='width: 45%; margin: 2.5%; float: left'><img src='3_bays29_100000/6_projection_images/bays29_5_6.png' /><span>bays29_5_6.png - projection</span></div><div style='width: 45%; margin: 2.5%; float: left'><img src='3_bays29_100000/2_images/bays29_5_6.png' /><span>bays29_5_6.png - LON</span></div>"
      ],
      "text/plain": [
       "<IPython.core.display.HTML object>"
      ]
     },
     "metadata": {},
     "output_type": "display_data"
    }
   ],
   "source": [
    "print_images_and_projections(test_folder + \"/2_images\", test_folder + \"/6_projection_images\")"
   ]
  },
  {
   "cell_type": "code",
   "execution_count": 4,
   "metadata": {},
   "outputs": [
    {
     "name": "stdout",
     "output_type": "stream",
     "text": [
      "Success rate [0.031, 0.016, 0.024, 0.047, 0.024, 0.056, 0.024, 0.008, 0.039, 0.056, 0.016, 0.039, 0.008, 0.056, 0.142, 0.024, 0.016, 0.048, 0.007, 0.162, 0.031, 0.04, 0.115, 0.039, 0.237, 0.11, 0.155, 0.016, 0.008]\n",
      "Iterations to success ['1771.29', '1200.00', '1532.00', '789.55', '2416.00', '1409.43', '2416.00', '679.00', '1434.08', '1409.43', '608.50', '1416.64', '1302.00', '1607.71', '1137.49', '1504.00', '1883.00', '965.50', '1156.00', '1018.33', '1098.26', '952.40', '1227.84', '2189.85', '1146.46', '1238.25', '1453.55', '1263.00', '684.00']\n",
      "Number of nodes [2011, 2017, 1919, 1931, 1913, 1925, 1913, 1899, 1913, 1925, 1835, 1854, 1833, 2004, 1958, 1836, 1926, 1881, 1854, 1734, 1763, 1761, 1698, 1736, 1794, 1698, 1687, 1811, 1778]\n",
      "Number of edges [1912, 1936, 1838, 1840, 1826, 1840, 1826, 1822, 1842, 1840, 1767, 1778, 1728, 1938, 1956, 1739, 1875, 1811, 1780, 1718, 1774, 1724, 1719, 1704, 1829, 1691, 1706, 1835, 1719]\n",
      "Number of sinks [107, 97, 95, 97, 101, 98, 101, 99, 83, 98, 86, 98, 109, 90, 44, 105, 78, 89, 85, 47, 47, 69, 39, 70, 36, 55, 42, 38, 77]\n",
      "Relative in-strength ['0.03', '0.01', '0.03', '0.05', '0.03', '0.03', '0.03', '0.00', '0.05', '0.03', '0.01', '0.04', '0.01', '0.03', '0.11', '0.03', '0.02', '0.04', '0.01', '0.14', '0.08', '0.05', '0.11', '0.03', '0.14', '0.09', '0.14', '0.03', '0.01']\n",
      "Proportion of nodes in optimal funnels ['0.05', '0.06', '0.11', '0.10', '0.12', '0.09', '0.12', '0.05', '0.19', '0.09', '0.15', '0.16', '0.01', '0.21', '0.60', '0.06', '0.07', '0.14', '0.01', '0.50', '0.67', '0.16', '0.63', '0.34', '0.52', '0.51', '0.62', '0.30', '0.01']\n",
      "Proportion of nodes with unique path length ['0.05', '0.06', '0.11', '0.10', '0.12', '0.09', '0.12', '0.05', '0.19', '0.09', '0.15', '0.16', '0.01', '0.21', '0.60', '0.06', '0.07', '0.14', '0.01', '0.50', '0.67', '0.16', '0.63', '0.34', '0.52', '0.51', '0.62', '0.30', '0.01']\n"
     ]
    }
   ],
   "source": [
    "test_folder_2 = \"4_bays29_1000\"\n",
    "main_part4__metrics(\"best\", test_folder_2 + \"/1_lons\", test_folder_2 + \"/3_performance_metrics\", test_folder_2 + \"/4_network_metrics\")\n",
    "print_metrics(test_folder_2 + \"/3_performance_metrics\", test_folder_2 + \"/4_network_metrics\")"
   ]
  },
  {
   "cell_type": "code",
   "execution_count": null,
   "metadata": {},
   "outputs": [],
   "source": []
  }
 ],
 "metadata": {
  "kernelspec": {
   "display_name": "Python 3",
   "language": "python",
   "name": "python3"
  },
  "language_info": {
   "codemirror_mode": {
    "name": "ipython",
    "version": 3
   },
   "file_extension": ".py",
   "mimetype": "text/x-python",
   "name": "python",
   "nbconvert_exporter": "python",
   "pygments_lexer": "ipython3",
   "version": "3.6.5"
  }
 },
 "nbformat": 4,
 "nbformat_minor": 2
}
