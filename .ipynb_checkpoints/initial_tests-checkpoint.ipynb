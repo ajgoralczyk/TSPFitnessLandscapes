{
 "cells": [
  {
   "cell_type": "code",
   "execution_count": 1,
   "metadata": {},
   "outputs": [],
   "source": [
    "from main import *"
   ]
  },
  {
   "cell_type": "markdown",
   "metadata": {},
   "source": [
    "1. Sub-instances & LON generation\n",
    "\n",
    "\n",
    "- problem: bays29\n",
    "- 28 sub-instances (9 without 1 vertex, 9 without 2, 10 without 5)\n",
    "- 1000  Chained-LK runs\n",
    "- kick strength = 1\n",
    "- termination criterion = 1 000 consecutive non-improving iterations (later 10 000 will be used)\n"
   ]
  },
  {
   "cell_type": "code",
   "execution_count": 2,
   "metadata": {},
   "outputs": [],
   "source": [
    "# done independently on different computers\n",
    "# main_part1__generating_TSP_problems(\"bays29.tsp\", \"data\")\n",
    "# main_part2__generating_LONs(\"data\", \"lons\", 1)"
   ]
  },
  {
   "cell_type": "markdown",
   "metadata": {},
   "source": [
    "2. LON image generation\n",
    "\n",
    "\n",
    "- nodes & edges selection ..."
   ]
  },
  {
   "cell_type": "code",
   "execution_count": 3,
   "metadata": {
    "scrolled": false
   },
   "outputs": [
    {
     "data": {
      "text/html": [
       "<img style='width: 50%; margin: 0px; float: left; border: 1px solid black;' src='images/bays29.png' /><img style='width: 50%; margin: 0px; float: left; border: 1px solid black;' src='images/bays29_1_0.png' /><img style='width: 50%; margin: 0px; float: left; border: 1px solid black;' src='images/bays29_1_1.png' /><img style='width: 50%; margin: 0px; float: left; border: 1px solid black;' src='images/bays29_1_2.png' /><img style='width: 50%; margin: 0px; float: left; border: 1px solid black;' src='images/bays29_1_3.png' /><img style='width: 50%; margin: 0px; float: left; border: 1px solid black;' src='images/bays29_1_4.png' /><img style='width: 50%; margin: 0px; float: left; border: 1px solid black;' src='images/bays29_1_5.png' /><img style='width: 50%; margin: 0px; float: left; border: 1px solid black;' src='images/bays29_1_6.png' /><img style='width: 50%; margin: 0px; float: left; border: 1px solid black;' src='images/bays29_1_7.png' /><img style='width: 50%; margin: 0px; float: left; border: 1px solid black;' src='images/bays29_1_8.png' /><img style='width: 50%; margin: 0px; float: left; border: 1px solid black;' src='images/bays29_2_0.png' /><img style='width: 50%; margin: 0px; float: left; border: 1px solid black;' src='images/bays29_2_1.png' /><img style='width: 50%; margin: 0px; float: left; border: 1px solid black;' src='images/bays29_2_2.png' /><img style='width: 50%; margin: 0px; float: left; border: 1px solid black;' src='images/bays29_2_3.png' /><img style='width: 50%; margin: 0px; float: left; border: 1px solid black;' src='images/bays29_2_4.png' /><img style='width: 50%; margin: 0px; float: left; border: 1px solid black;' src='images/bays29_2_5.png' /><img style='width: 50%; margin: 0px; float: left; border: 1px solid black;' src='images/bays29_2_6.png' /><img style='width: 50%; margin: 0px; float: left; border: 1px solid black;' src='images/bays29_2_7.png' /><img style='width: 50%; margin: 0px; float: left; border: 1px solid black;' src='images/bays29_2_8.png' /><img style='width: 50%; margin: 0px; float: left; border: 1px solid black;' src='images/bays29_5_0.png' /><img style='width: 50%; margin: 0px; float: left; border: 1px solid black;' src='images/bays29_5_1.png' /><img style='width: 50%; margin: 0px; float: left; border: 1px solid black;' src='images/bays29_5_2.png' /><img style='width: 50%; margin: 0px; float: left; border: 1px solid black;' src='images/bays29_5_3.png' /><img style='width: 50%; margin: 0px; float: left; border: 1px solid black;' src='images/bays29_5_4.png' /><img style='width: 50%; margin: 0px; float: left; border: 1px solid black;' src='images/bays29_5_5.png' /><img style='width: 50%; margin: 0px; float: left; border: 1px solid black;' src='images/bays29_5_6.png' /><img style='width: 50%; margin: 0px; float: left; border: 1px solid black;' src='images/bays29_5_7.png' /><img style='width: 50%; margin: 0px; float: left; border: 1px solid black;' src='images/bays29_5_8.png' /><img style='width: 50%; margin: 0px; float: left; border: 1px solid black;' src='images/bays29_5_9.png' />"
      ],
      "text/plain": [
       "<IPython.core.display.HTML object>"
      ]
     },
     "metadata": {},
     "output_type": "display_data"
    }
   ],
   "source": [
    "main_part3__visualizing_LONs(\"lons\", \"images\")\n",
    "print_images(\"images\")"
   ]
  },
  {
   "cell_type": "markdown",
   "metadata": {},
   "source": [
    "3. network & performance metrics\n",
    "\n",
    "\n",
    "- success rate\n",
    "- ..."
   ]
  },
  {
   "cell_type": "code",
   "execution_count": null,
   "metadata": {},
   "outputs": [],
   "source": []
  },
  {
   "cell_type": "markdown",
   "metadata": {},
   "source": [
    "4. LON projection image generation\n",
    "\n",
    "\n",
    "- with and without: loops and 'upstream edges' (edges from original graphs that in projection point from node representing shorter to longer path)\n",
    "- ..."
   ]
  },
  {
   "cell_type": "code",
   "execution_count": null,
   "metadata": {},
   "outputs": [],
   "source": []
  },
  {
   "cell_type": "markdown",
   "metadata": {},
   "source": [
    "5. LON projection metrics\n",
    "\n",
    "\n",
    "- ..."
   ]
  },
  {
   "cell_type": "code",
   "execution_count": null,
   "metadata": {},
   "outputs": [],
   "source": []
  },
  {
   "cell_type": "markdown",
   "metadata": {},
   "source": [
    "6. LON for sub-instance vs. LON projection \n",
    "\n",
    "\n",
    "- ..."
   ]
  },
  {
   "cell_type": "code",
   "execution_count": null,
   "metadata": {},
   "outputs": [],
   "source": []
  },
  {
   "cell_type": "code",
   "execution_count": null,
   "metadata": {},
   "outputs": [],
   "source": []
  }
 ],
 "metadata": {
  "kernelspec": {
   "display_name": "Python 3",
   "language": "python",
   "name": "python3"
  },
  "language_info": {
   "codemirror_mode": {
    "name": "ipython",
    "version": 3
   },
   "file_extension": ".py",
   "mimetype": "text/x-python",
   "name": "python",
   "nbconvert_exporter": "python",
   "pygments_lexer": "ipython3",
   "version": "3.6.5"
  }
 },
 "nbformat": 4,
 "nbformat_minor": 2
}
